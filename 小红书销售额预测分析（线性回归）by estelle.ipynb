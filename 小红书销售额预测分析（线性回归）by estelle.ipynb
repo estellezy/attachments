{
 "cells": [
  {
   "cell_type": "markdown",
   "metadata": {},
   "source": [
    "## 数据准备"
   ]
  },
  {
   "cell_type": "code",
   "execution_count": 1,
   "metadata": {},
   "outputs": [],
   "source": [
    "import pandas as pd\n",
    "import matplotlib.pyplot as plt\n",
    "import seaborn as sns\n",
    "import numpy as np\n",
    "%matplotlib inline"
   ]
  },
  {
   "cell_type": "code",
   "execution_count": 2,
   "metadata": {},
   "outputs": [],
   "source": [
    "red=pd.read_csv(r'/Users/apple/Desktop/商业数据分析项目/week 6/reddata.csv')"
   ]
  },
  {
   "cell_type": "code",
   "execution_count": 3,
   "metadata": {},
   "outputs": [
    {
     "data": {
      "text/html": [
       "<div>\n",
       "<style scoped>\n",
       "    .dataframe tbody tr th:only-of-type {\n",
       "        vertical-align: middle;\n",
       "    }\n",
       "\n",
       "    .dataframe tbody tr th {\n",
       "        vertical-align: top;\n",
       "    }\n",
       "\n",
       "    .dataframe thead th {\n",
       "        text-align: right;\n",
       "    }\n",
       "</style>\n",
       "<table border=\"1\" class=\"dataframe\">\n",
       "  <thead>\n",
       "    <tr style=\"text-align: right;\">\n",
       "      <th></th>\n",
       "      <th>revenue</th>\n",
       "      <th>gender</th>\n",
       "      <th>age</th>\n",
       "      <th>engaged_last_30</th>\n",
       "      <th>lifecycle</th>\n",
       "      <th>days_since_last_order</th>\n",
       "      <th>previous_order_amount</th>\n",
       "      <th>3rd_party_stores</th>\n",
       "    </tr>\n",
       "  </thead>\n",
       "  <tbody>\n",
       "    <tr>\n",
       "      <th>0</th>\n",
       "      <td>72.98</td>\n",
       "      <td>0.0</td>\n",
       "      <td>43.0</td>\n",
       "      <td>0.0</td>\n",
       "      <td>B</td>\n",
       "      <td>4.26</td>\n",
       "      <td>2343.870</td>\n",
       "      <td>0</td>\n",
       "    </tr>\n",
       "    <tr>\n",
       "      <th>1</th>\n",
       "      <td>200.99</td>\n",
       "      <td>0.0</td>\n",
       "      <td>34.0</td>\n",
       "      <td>0.0</td>\n",
       "      <td>A</td>\n",
       "      <td>0.94</td>\n",
       "      <td>8539.872</td>\n",
       "      <td>0</td>\n",
       "    </tr>\n",
       "    <tr>\n",
       "      <th>2</th>\n",
       "      <td>69.98</td>\n",
       "      <td>0.0</td>\n",
       "      <td>16.0</td>\n",
       "      <td>0.0</td>\n",
       "      <td>C</td>\n",
       "      <td>4.29</td>\n",
       "      <td>1687.646</td>\n",
       "      <td>1</td>\n",
       "    </tr>\n",
       "    <tr>\n",
       "      <th>3</th>\n",
       "      <td>649.99</td>\n",
       "      <td>NaN</td>\n",
       "      <td>NaN</td>\n",
       "      <td>NaN</td>\n",
       "      <td>C</td>\n",
       "      <td>14.90</td>\n",
       "      <td>3498.846</td>\n",
       "      <td>0</td>\n",
       "    </tr>\n",
       "    <tr>\n",
       "      <th>4</th>\n",
       "      <td>83.59</td>\n",
       "      <td>NaN</td>\n",
       "      <td>NaN</td>\n",
       "      <td>NaN</td>\n",
       "      <td>C</td>\n",
       "      <td>21.13</td>\n",
       "      <td>3968.490</td>\n",
       "      <td>4</td>\n",
       "    </tr>\n",
       "  </tbody>\n",
       "</table>\n",
       "</div>"
      ],
      "text/plain": [
       "   revenue  gender   age  engaged_last_30 lifecycle   days_since_last_order   \\\n",
       "0    72.98     0.0  43.0              0.0         B                     4.26   \n",
       "1   200.99     0.0  34.0              0.0         A                     0.94   \n",
       "2    69.98     0.0  16.0              0.0         C                     4.29   \n",
       "3   649.99     NaN   NaN              NaN         C                    14.90   \n",
       "4    83.59     NaN   NaN              NaN         C                    21.13   \n",
       "\n",
       "   previous_order_amount  3rd_party_stores  \n",
       "0               2343.870                 0  \n",
       "1               8539.872                 0  \n",
       "2               1687.646                 1  \n",
       "3               3498.846                 0  \n",
       "4               3968.490                 4  "
      ]
     },
     "execution_count": 3,
     "metadata": {},
     "output_type": "execute_result"
    }
   ],
   "source": [
    "red.head()"
   ]
  },
  {
   "cell_type": "code",
   "execution_count": 4,
   "metadata": {},
   "outputs": [
    {
     "name": "stdout",
     "output_type": "stream",
     "text": [
      "<class 'pandas.core.frame.DataFrame'>\n",
      "RangeIndex: 29452 entries, 0 to 29451\n",
      "Data columns (total 8 columns):\n",
      " #   Column                   Non-Null Count  Dtype  \n",
      "---  ------                   --------------  -----  \n",
      " 0   revenue                  29452 non-null  float64\n",
      " 1   gender                   17723 non-null  float64\n",
      " 2   age                      17723 non-null  float64\n",
      " 3   engaged_last_30          17723 non-null  float64\n",
      " 4   lifecycle                29452 non-null  object \n",
      " 5    days_since_last_order   29452 non-null  float64\n",
      " 6   previous_order_amount    29452 non-null  float64\n",
      " 7   3rd_party_stores         29452 non-null  int64  \n",
      "dtypes: float64(6), int64(1), object(1)\n",
      "memory usage: 1.8+ MB\n"
     ]
    }
   ],
   "source": [
    "red.info()"
   ]
  },
  {
   "cell_type": "markdown",
   "metadata": {},
   "source": [
    "- gender，age，engaged_last_30有缺失值"
   ]
  },
  {
   "cell_type": "code",
   "execution_count": 5,
   "metadata": {},
   "outputs": [
    {
     "data": {
      "text/plain": [
       "revenue                    0.000000\n",
       "gender                     0.398241\n",
       "age                        0.398241\n",
       "engaged_last_30            0.398241\n",
       "lifecycle                  0.000000\n",
       " days_since_last_order     0.000000\n",
       "previous_order_amount      0.000000\n",
       "3rd_party_stores           0.000000\n",
       "dtype: float64"
      ]
     },
     "execution_count": 5,
     "metadata": {},
     "output_type": "execute_result"
    }
   ],
   "source": [
    "#缺失值占比\n",
    "red.isnull().sum()/len(red)"
   ]
  },
  {
   "cell_type": "code",
   "execution_count": 6,
   "metadata": {},
   "outputs": [
    {
     "data": {
      "text/plain": [
       "count    29452.000000\n",
       "mean        29.419286\n",
       "std          7.147199\n",
       "min         14.000000\n",
       "25%         27.000000\n",
       "50%         29.419286\n",
       "75%         32.000000\n",
       "max         45.000000\n",
       "Name: age, dtype: float64"
      ]
     },
     "execution_count": 6,
     "metadata": {},
     "output_type": "execute_result"
    }
   ],
   "source": [
    "#查看age非缺失值的描述性统计\n",
    "red.loc[~red['age'].isna(),'age'].describe()\n",
    "\n",
    "#age缺失值采取均值填充\n",
    "red.age=red.age.fillna(red.age.mean())\n",
    "red.age.describe()"
   ]
  },
  {
   "cell_type": "code",
   "execution_count": 7,
   "metadata": {},
   "outputs": [
    {
     "data": {
      "text/plain": [
       "array([ 0., nan,  1.])"
      ]
     },
     "execution_count": 7,
     "metadata": {},
     "output_type": "execute_result"
    }
   ],
   "source": [
    "red.gender.unique()"
   ]
  },
  {
   "cell_type": "code",
   "execution_count": 8,
   "metadata": {},
   "outputs": [],
   "source": [
    "#gender缺失值填充\n",
    "red=red.fillna('unknown')"
   ]
  },
  {
   "cell_type": "code",
   "execution_count": 9,
   "metadata": {},
   "outputs": [],
   "source": [
    "#类别变量变哑变量\n",
    "red_dummies=pd.get_dummies(red)"
   ]
  },
  {
   "cell_type": "code",
   "execution_count": 10,
   "metadata": {},
   "outputs": [
    {
     "data": {
      "text/html": [
       "<div>\n",
       "<style scoped>\n",
       "    .dataframe tbody tr th:only-of-type {\n",
       "        vertical-align: middle;\n",
       "    }\n",
       "\n",
       "    .dataframe tbody tr th {\n",
       "        vertical-align: top;\n",
       "    }\n",
       "\n",
       "    .dataframe thead th {\n",
       "        text-align: right;\n",
       "    }\n",
       "</style>\n",
       "<table border=\"1\" class=\"dataframe\">\n",
       "  <thead>\n",
       "    <tr style=\"text-align: right;\">\n",
       "      <th></th>\n",
       "      <th>revenue</th>\n",
       "      <th>age</th>\n",
       "      <th>days_since_last_order</th>\n",
       "      <th>previous_order_amount</th>\n",
       "      <th>3rd_party_stores</th>\n",
       "      <th>gender_0.0</th>\n",
       "      <th>gender_1.0</th>\n",
       "      <th>gender_unknown</th>\n",
       "      <th>engaged_last_30_0.0</th>\n",
       "      <th>engaged_last_30_1.0</th>\n",
       "      <th>engaged_last_30_unknown</th>\n",
       "      <th>lifecycle_A</th>\n",
       "      <th>lifecycle_B</th>\n",
       "      <th>lifecycle_C</th>\n",
       "    </tr>\n",
       "  </thead>\n",
       "  <tbody>\n",
       "    <tr>\n",
       "      <th>0</th>\n",
       "      <td>72.98</td>\n",
       "      <td>43.000000</td>\n",
       "      <td>4.26</td>\n",
       "      <td>2343.870</td>\n",
       "      <td>0</td>\n",
       "      <td>1</td>\n",
       "      <td>0</td>\n",
       "      <td>0</td>\n",
       "      <td>1</td>\n",
       "      <td>0</td>\n",
       "      <td>0</td>\n",
       "      <td>0</td>\n",
       "      <td>1</td>\n",
       "      <td>0</td>\n",
       "    </tr>\n",
       "    <tr>\n",
       "      <th>1</th>\n",
       "      <td>200.99</td>\n",
       "      <td>34.000000</td>\n",
       "      <td>0.94</td>\n",
       "      <td>8539.872</td>\n",
       "      <td>0</td>\n",
       "      <td>1</td>\n",
       "      <td>0</td>\n",
       "      <td>0</td>\n",
       "      <td>1</td>\n",
       "      <td>0</td>\n",
       "      <td>0</td>\n",
       "      <td>1</td>\n",
       "      <td>0</td>\n",
       "      <td>0</td>\n",
       "    </tr>\n",
       "    <tr>\n",
       "      <th>2</th>\n",
       "      <td>69.98</td>\n",
       "      <td>16.000000</td>\n",
       "      <td>4.29</td>\n",
       "      <td>1687.646</td>\n",
       "      <td>1</td>\n",
       "      <td>1</td>\n",
       "      <td>0</td>\n",
       "      <td>0</td>\n",
       "      <td>1</td>\n",
       "      <td>0</td>\n",
       "      <td>0</td>\n",
       "      <td>0</td>\n",
       "      <td>0</td>\n",
       "      <td>1</td>\n",
       "    </tr>\n",
       "    <tr>\n",
       "      <th>3</th>\n",
       "      <td>649.99</td>\n",
       "      <td>29.419286</td>\n",
       "      <td>14.90</td>\n",
       "      <td>3498.846</td>\n",
       "      <td>0</td>\n",
       "      <td>0</td>\n",
       "      <td>0</td>\n",
       "      <td>1</td>\n",
       "      <td>0</td>\n",
       "      <td>0</td>\n",
       "      <td>1</td>\n",
       "      <td>0</td>\n",
       "      <td>0</td>\n",
       "      <td>1</td>\n",
       "    </tr>\n",
       "    <tr>\n",
       "      <th>4</th>\n",
       "      <td>83.59</td>\n",
       "      <td>29.419286</td>\n",
       "      <td>21.13</td>\n",
       "      <td>3968.490</td>\n",
       "      <td>4</td>\n",
       "      <td>0</td>\n",
       "      <td>0</td>\n",
       "      <td>1</td>\n",
       "      <td>0</td>\n",
       "      <td>0</td>\n",
       "      <td>1</td>\n",
       "      <td>0</td>\n",
       "      <td>0</td>\n",
       "      <td>1</td>\n",
       "    </tr>\n",
       "  </tbody>\n",
       "</table>\n",
       "</div>"
      ],
      "text/plain": [
       "   revenue        age   days_since_last_order   previous_order_amount  \\\n",
       "0    72.98  43.000000                     4.26               2343.870   \n",
       "1   200.99  34.000000                     0.94               8539.872   \n",
       "2    69.98  16.000000                     4.29               1687.646   \n",
       "3   649.99  29.419286                    14.90               3498.846   \n",
       "4    83.59  29.419286                    21.13               3968.490   \n",
       "\n",
       "   3rd_party_stores  gender_0.0  gender_1.0  gender_unknown  \\\n",
       "0                 0           1           0               0   \n",
       "1                 0           1           0               0   \n",
       "2                 1           1           0               0   \n",
       "3                 0           0           0               1   \n",
       "4                 4           0           0               1   \n",
       "\n",
       "   engaged_last_30_0.0  engaged_last_30_1.0  engaged_last_30_unknown  \\\n",
       "0                    1                    0                        0   \n",
       "1                    1                    0                        0   \n",
       "2                    1                    0                        0   \n",
       "3                    0                    0                        1   \n",
       "4                    0                    0                        1   \n",
       "\n",
       "   lifecycle_A  lifecycle_B  lifecycle_C  \n",
       "0            0            1            0  \n",
       "1            1            0            0  \n",
       "2            0            0            1  \n",
       "3            0            0            1  \n",
       "4            0            0            1  "
      ]
     },
     "execution_count": 10,
     "metadata": {},
     "output_type": "execute_result"
    }
   ],
   "source": [
    "red_dummies.head()"
   ]
  },
  {
   "cell_type": "markdown",
   "metadata": {},
   "source": [
    "## EDA"
   ]
  },
  {
   "cell_type": "markdown",
   "metadata": {},
   "source": [
    "### 单变量分析"
   ]
  },
  {
   "cell_type": "markdown",
   "metadata": {},
   "source": [
    "#### revenue"
   ]
  },
  {
   "cell_type": "code",
   "execution_count": 11,
   "metadata": {},
   "outputs": [
    {
     "data": {
      "image/png": "[encoded data removed]",
      "text/plain": [
       "<Figure size 432x288 with 1 Axes>"
      ]
     },
     "metadata": {
      "needs_background": "light"
     },
     "output_type": "display_data"
    }
   ],
   "source": [
    "red.revenue.plot(kind='hist');"
   ]
  },
  {
   "cell_type": "markdown",
   "metadata": {},
   "source": [
    "- 消费额差异较大,之后考虑做离群值处理"
   ]
  },
  {
   "cell_type": "markdown",
   "metadata": {},
   "source": [
    "#### gender"
   ]
  },
  {
   "cell_type": "code",
   "execution_count": 12,
   "metadata": {},
   "outputs": [
    {
     "data": {
      "text/plain": [
       "array([0.0, 'unknown', 1.0], dtype=object)"
      ]
     },
     "execution_count": 12,
     "metadata": {},
     "output_type": "execute_result"
    }
   ],
   "source": [
    "red.gender.unique()"
   ]
  },
  {
   "cell_type": "code",
   "execution_count": 13,
   "metadata": {},
   "outputs": [
    {
     "data": {
      "image/png": "[encoded data removed]",
      "text/plain": [
       "<Figure size 432x288 with 1 Axes>"
      ]
     },
     "metadata": {
      "needs_background": "light"
     },
     "output_type": "display_data"
    }
   ],
   "source": [
    "red['gender'].value_counts(dropna=False).plot(kind='bar');"
   ]
  },
  {
   "cell_type": "markdown",
   "metadata": {},
   "source": [
    "- gender无序分类变量，之后做get_dummies处理。"
   ]
  },
  {
   "cell_type": "markdown",
   "metadata": {},
   "source": [
    "#### age"
   ]
  },
  {
   "cell_type": "code",
   "execution_count": 14,
   "metadata": {},
   "outputs": [
    {
     "data": {
      "text/plain": [
       "count    29452.000000\n",
       "mean        29.419286\n",
       "std          7.147199\n",
       "min         14.000000\n",
       "25%         27.000000\n",
       "50%         29.419286\n",
       "75%         32.000000\n",
       "max         45.000000\n",
       "Name: age, dtype: float64"
      ]
     },
     "execution_count": 14,
     "metadata": {},
     "output_type": "execute_result"
    }
   ],
   "source": [
    "red.age.describe()"
   ]
  },
  {
   "cell_type": "code",
   "execution_count": 15,
   "metadata": {},
   "outputs": [
    {
     "data": {
      "image/png": "[encoded data removed]",
      "text/plain": [
       "<Figure size 432x288 with 1 Axes>"
      ]
     },
     "metadata": {
      "needs_background": "light"
     },
     "output_type": "display_data"
    }
   ],
   "source": [
    "red['age'].plot(kind='hist',bins=10);"
   ]
  },
  {
   "cell_type": "markdown",
   "metadata": {},
   "source": [
    "- 均值填充影响的数据"
   ]
  },
  {
   "cell_type": "markdown",
   "metadata": {},
   "source": [
    "#### 用户行为特征"
   ]
  },
  {
   "cell_type": "code",
   "execution_count": 16,
   "metadata": {},
   "outputs": [
    {
     "data": {
      "text/plain": [
       "array(['B', 'A', 'C'], dtype=object)"
      ]
     },
     "execution_count": 16,
     "metadata": {},
     "output_type": "execute_result"
    }
   ],
   "source": [
    "red.lifecycle.unique()"
   ]
  },
  {
   "cell_type": "code",
   "execution_count": 17,
   "metadata": {},
   "outputs": [
    {
     "data": {
      "text/plain": [
       "array([0.0, 'unknown', 1.0], dtype=object)"
      ]
     },
     "execution_count": 17,
     "metadata": {},
     "output_type": "execute_result"
    }
   ],
   "source": [
    "red.engaged_last_30.unique()"
   ]
  },
  {
   "cell_type": "code",
   "execution_count": 18,
   "metadata": {},
   "outputs": [
    {
     "data": {
      "image/png": "[encoded data removed]",
      "text/plain": [
       "<Figure size 432x288 with 1 Axes>"
      ]
     },
     "metadata": {
      "needs_background": "light"
     },
     "output_type": "display_data"
    }
   ],
   "source": [
    "red.lifecycle.value_counts().plot(kind='bar');"
   ]
  },
  {
   "cell_type": "markdown",
   "metadata": {},
   "source": [
    "- A B C定序分类，C远多于B和A"
   ]
  },
  {
   "cell_type": "code",
   "execution_count": 19,
   "metadata": {},
   "outputs": [
    {
     "data": {
      "image/png": "[encoded data removed]",
      "text/plain": [
       "<Figure size 432x288 with 1 Axes>"
      ]
     },
     "metadata": {
      "needs_background": "light"
     },
     "output_type": "display_data"
    }
   ],
   "source": [
    "red.engaged_last_30.value_counts(dropna=False).plot(kind='bar');"
   ]
  },
  {
   "cell_type": "code",
   "execution_count": 20,
   "metadata": {},
   "outputs": [
    {
     "data": {
      "text/plain": [
       "Index(['revenue', 'gender', 'age', 'engaged_last_30', 'lifecycle',\n",
       "       ' days_since_last_order ', 'previous_order_amount', '3rd_party_stores'],\n",
       "      dtype='object')"
      ]
     },
     "execution_count": 20,
     "metadata": {},
     "output_type": "execute_result"
    }
   ],
   "source": [
    "red.columns"
   ]
  },
  {
   "cell_type": "code",
   "execution_count": 21,
   "metadata": {},
   "outputs": [
    {
     "data": {
      "image/png": "[encoded data removed]",
      "text/plain": [
       "<Figure size 432x288 with 1 Axes>"
      ]
     },
     "metadata": {
      "needs_background": "light"
     },
     "output_type": "display_data"
    }
   ],
   "source": [
    "red[' days_since_last_order '].plot(kind='hist');"
   ]
  },
  {
   "cell_type": "code",
   "execution_count": 22,
   "metadata": {},
   "outputs": [
    {
     "data": {
      "image/png": "[encoded data removed]",
      "text/plain": [
       "<Figure size 432x288 with 1 Axes>"
      ]
     },
     "metadata": {
      "needs_background": "light"
     },
     "output_type": "display_data"
    }
   ],
   "source": [
    "red['previous_order_amount'].plot(kind='hist',bins=100);"
   ]
  },
  {
   "cell_type": "code",
   "execution_count": 23,
   "metadata": {},
   "outputs": [
    {
     "data": {
      "image/png": "[encoded data removed]",
      "text/plain": [
       "<Figure size 432x288 with 1 Axes>"
      ]
     },
     "metadata": {
      "needs_background": "light"
     },
     "output_type": "display_data"
    }
   ],
   "source": [
    "red['3rd_party_stores'].value_counts().plot(kind='bar');"
   ]
  },
  {
   "cell_type": "markdown",
   "metadata": {},
   "source": [
    "### 多变量分析"
   ]
  },
  {
   "cell_type": "code",
   "execution_count": 24,
   "metadata": {},
   "outputs": [
    {
     "data": {
      "text/html": [
       "<div>\n",
       "<style scoped>\n",
       "    .dataframe tbody tr th:only-of-type {\n",
       "        vertical-align: middle;\n",
       "    }\n",
       "\n",
       "    .dataframe tbody tr th {\n",
       "        vertical-align: top;\n",
       "    }\n",
       "\n",
       "    .dataframe thead th {\n",
       "        text-align: right;\n",
       "    }\n",
       "</style>\n",
       "<table border=\"1\" class=\"dataframe\">\n",
       "  <thead>\n",
       "    <tr style=\"text-align: right;\">\n",
       "      <th></th>\n",
       "      <th>revenue</th>\n",
       "      <th>age</th>\n",
       "      <th>days_since_last_order</th>\n",
       "      <th>previous_order_amount</th>\n",
       "      <th>3rd_party_stores</th>\n",
       "    </tr>\n",
       "  </thead>\n",
       "  <tbody>\n",
       "    <tr>\n",
       "      <th>count</th>\n",
       "      <td>29452.000000</td>\n",
       "      <td>29452.000000</td>\n",
       "      <td>29452.000000</td>\n",
       "      <td>29452.000000</td>\n",
       "      <td>29452.000000</td>\n",
       "    </tr>\n",
       "    <tr>\n",
       "      <th>mean</th>\n",
       "      <td>397.071515</td>\n",
       "      <td>29.419286</td>\n",
       "      <td>7.711348</td>\n",
       "      <td>2339.254020</td>\n",
       "      <td>2.286059</td>\n",
       "    </tr>\n",
       "    <tr>\n",
       "      <th>std</th>\n",
       "      <td>959.755615</td>\n",
       "      <td>7.147199</td>\n",
       "      <td>6.489289</td>\n",
       "      <td>2361.572921</td>\n",
       "      <td>3.538219</td>\n",
       "    </tr>\n",
       "    <tr>\n",
       "      <th>min</th>\n",
       "      <td>0.020000</td>\n",
       "      <td>14.000000</td>\n",
       "      <td>0.130000</td>\n",
       "      <td>0.000000</td>\n",
       "      <td>0.000000</td>\n",
       "    </tr>\n",
       "    <tr>\n",
       "      <th>25%</th>\n",
       "      <td>74.970000</td>\n",
       "      <td>27.000000</td>\n",
       "      <td>2.190000</td>\n",
       "      <td>773.349500</td>\n",
       "      <td>0.000000</td>\n",
       "    </tr>\n",
       "    <tr>\n",
       "      <th>50%</th>\n",
       "      <td>175.980000</td>\n",
       "      <td>29.419286</td>\n",
       "      <td>5.970000</td>\n",
       "      <td>1655.790000</td>\n",
       "      <td>0.000000</td>\n",
       "    </tr>\n",
       "    <tr>\n",
       "      <th>75%</th>\n",
       "      <td>498.772500</td>\n",
       "      <td>32.000000</td>\n",
       "      <td>11.740000</td>\n",
       "      <td>3084.796500</td>\n",
       "      <td>3.000000</td>\n",
       "    </tr>\n",
       "    <tr>\n",
       "      <th>max</th>\n",
       "      <td>103466.100000</td>\n",
       "      <td>45.000000</td>\n",
       "      <td>23.710000</td>\n",
       "      <td>11597.900000</td>\n",
       "      <td>10.000000</td>\n",
       "    </tr>\n",
       "  </tbody>\n",
       "</table>\n",
       "</div>"
      ],
      "text/plain": [
       "             revenue           age   days_since_last_order   \\\n",
       "count   29452.000000  29452.000000             29452.000000   \n",
       "mean      397.071515     29.419286                 7.711348   \n",
       "std       959.755615      7.147199                 6.489289   \n",
       "min         0.020000     14.000000                 0.130000   \n",
       "25%        74.970000     27.000000                 2.190000   \n",
       "50%       175.980000     29.419286                 5.970000   \n",
       "75%       498.772500     32.000000                11.740000   \n",
       "max    103466.100000     45.000000                23.710000   \n",
       "\n",
       "       previous_order_amount  3rd_party_stores  \n",
       "count           29452.000000      29452.000000  \n",
       "mean             2339.254020          2.286059  \n",
       "std              2361.572921          3.538219  \n",
       "min                 0.000000          0.000000  \n",
       "25%               773.349500          0.000000  \n",
       "50%              1655.790000          0.000000  \n",
       "75%              3084.796500          3.000000  \n",
       "max             11597.900000         10.000000  "
      ]
     },
     "execution_count": 24,
     "metadata": {},
     "output_type": "execute_result"
    }
   ],
   "source": [
    "#数值型变量\n",
    "red.describe()"
   ]
  },
  {
   "cell_type": "markdown",
   "metadata": {},
   "source": [
    "- revenue&previous_order_amount极差偏大，可能有离群值；\n",
    "- days_since_last_order范围max23.7，mean7，基本一个月内有下单，复购率高。\n",
    "- 3rd_party_stores第三方购买数量较少，大部分用户购买自营产品。"
   ]
  },
  {
   "cell_type": "code",
   "execution_count": 25,
   "metadata": {},
   "outputs": [
    {
     "data": {
      "text/html": [
       "<div>\n",
       "<style scoped>\n",
       "    .dataframe tbody tr th:only-of-type {\n",
       "        vertical-align: middle;\n",
       "    }\n",
       "\n",
       "    .dataframe tbody tr th {\n",
       "        vertical-align: top;\n",
       "    }\n",
       "\n",
       "    .dataframe thead th {\n",
       "        text-align: right;\n",
       "    }\n",
       "</style>\n",
       "<table border=\"1\" class=\"dataframe\">\n",
       "  <thead>\n",
       "    <tr style=\"text-align: right;\">\n",
       "      <th></th>\n",
       "      <th>count</th>\n",
       "      <th>mean</th>\n",
       "      <th>std</th>\n",
       "      <th>min</th>\n",
       "      <th>25%</th>\n",
       "      <th>50%</th>\n",
       "      <th>75%</th>\n",
       "      <th>max</th>\n",
       "    </tr>\n",
       "    <tr>\n",
       "      <th>gender</th>\n",
       "      <th></th>\n",
       "      <th></th>\n",
       "      <th></th>\n",
       "      <th></th>\n",
       "      <th></th>\n",
       "      <th></th>\n",
       "      <th></th>\n",
       "      <th></th>\n",
       "    </tr>\n",
       "  </thead>\n",
       "  <tbody>\n",
       "    <tr>\n",
       "      <th>0.0</th>\n",
       "      <td>12438.0</td>\n",
       "      <td>376.087884</td>\n",
       "      <td>664.092156</td>\n",
       "      <td>0.02</td>\n",
       "      <td>71.98</td>\n",
       "      <td>165.97</td>\n",
       "      <td>470.975</td>\n",
       "      <td>29080.8</td>\n",
       "    </tr>\n",
       "    <tr>\n",
       "      <th>1.0</th>\n",
       "      <td>5285.0</td>\n",
       "      <td>397.331844</td>\n",
       "      <td>616.564433</td>\n",
       "      <td>0.83</td>\n",
       "      <td>75.96</td>\n",
       "      <td>180.98</td>\n",
       "      <td>499.990</td>\n",
       "      <td>16500.0</td>\n",
       "    </tr>\n",
       "    <tr>\n",
       "      <th>unknown</th>\n",
       "      <td>11729.0</td>\n",
       "      <td>419.206270</td>\n",
       "      <td>1293.523770</td>\n",
       "      <td>0.02</td>\n",
       "      <td>75.96</td>\n",
       "      <td>179.00</td>\n",
       "      <td>528.990</td>\n",
       "      <td>103466.1</td>\n",
       "    </tr>\n",
       "  </tbody>\n",
       "</table>\n",
       "</div>"
      ],
      "text/plain": [
       "           count        mean          std   min    25%     50%      75%  \\\n",
       "gender                                                                    \n",
       "0.0      12438.0  376.087884   664.092156  0.02  71.98  165.97  470.975   \n",
       "1.0       5285.0  397.331844   616.564433  0.83  75.96  180.98  499.990   \n",
       "unknown  11729.0  419.206270  1293.523770  0.02  75.96  179.00  528.990   \n",
       "\n",
       "              max  \n",
       "gender             \n",
       "0.0       29080.8  \n",
       "1.0       16500.0  \n",
       "unknown  103466.1  "
      ]
     },
     "execution_count": 25,
     "metadata": {},
     "output_type": "execute_result"
    }
   ],
   "source": [
    "#类别型变量gender与目标列revenue\n",
    "red.groupby('gender').revenue.describe()"
   ]
  },
  {
   "cell_type": "markdown",
   "metadata": {},
   "source": [
    "- 数量上女性用户>男性用户，平均销售额女性用户<男性用户。\n",
    "- 大比例的unknown平均销售额高于男性和女性，实际业务中可以查看unknown中是否有更大比例的女性。"
   ]
  },
  {
   "cell_type": "code",
   "execution_count": 26,
   "metadata": {},
   "outputs": [
    {
     "data": {
      "text/html": [
       "<div>\n",
       "<style scoped>\n",
       "    .dataframe tbody tr th:only-of-type {\n",
       "        vertical-align: middle;\n",
       "    }\n",
       "\n",
       "    .dataframe tbody tr th {\n",
       "        vertical-align: top;\n",
       "    }\n",
       "\n",
       "    .dataframe thead th {\n",
       "        text-align: right;\n",
       "    }\n",
       "</style>\n",
       "<table border=\"1\" class=\"dataframe\">\n",
       "  <thead>\n",
       "    <tr style=\"text-align: right;\">\n",
       "      <th></th>\n",
       "      <th>count</th>\n",
       "      <th>mean</th>\n",
       "      <th>std</th>\n",
       "      <th>min</th>\n",
       "      <th>25%</th>\n",
       "      <th>50%</th>\n",
       "      <th>75%</th>\n",
       "      <th>max</th>\n",
       "    </tr>\n",
       "    <tr>\n",
       "      <th>engaged_last_30</th>\n",
       "      <th></th>\n",
       "      <th></th>\n",
       "      <th></th>\n",
       "      <th></th>\n",
       "      <th></th>\n",
       "      <th></th>\n",
       "      <th></th>\n",
       "      <th></th>\n",
       "    </tr>\n",
       "  </thead>\n",
       "  <tbody>\n",
       "    <tr>\n",
       "      <th>0.0</th>\n",
       "      <td>16428.0</td>\n",
       "      <td>367.810252</td>\n",
       "      <td>578.019107</td>\n",
       "      <td>0.02</td>\n",
       "      <td>71.18</td>\n",
       "      <td>160.37</td>\n",
       "      <td>458.9725</td>\n",
       "      <td>22214.92</td>\n",
       "    </tr>\n",
       "    <tr>\n",
       "      <th>1.0</th>\n",
       "      <td>1295.0</td>\n",
       "      <td>567.793893</td>\n",
       "      <td>1230.402270</td>\n",
       "      <td>1.00</td>\n",
       "      <td>109.99</td>\n",
       "      <td>299.94</td>\n",
       "      <td>674.0800</td>\n",
       "      <td>29080.80</td>\n",
       "    </tr>\n",
       "    <tr>\n",
       "      <th>unknown</th>\n",
       "      <td>11729.0</td>\n",
       "      <td>419.206270</td>\n",
       "      <td>1293.523770</td>\n",
       "      <td>0.02</td>\n",
       "      <td>75.96</td>\n",
       "      <td>179.00</td>\n",
       "      <td>528.9900</td>\n",
       "      <td>103466.10</td>\n",
       "    </tr>\n",
       "  </tbody>\n",
       "</table>\n",
       "</div>"
      ],
      "text/plain": [
       "                   count        mean          std   min     25%     50%  \\\n",
       "engaged_last_30                                                           \n",
       "0.0              16428.0  367.810252   578.019107  0.02   71.18  160.37   \n",
       "1.0               1295.0  567.793893  1230.402270  1.00  109.99  299.94   \n",
       "unknown          11729.0  419.206270  1293.523770  0.02   75.96  179.00   \n",
       "\n",
       "                      75%        max  \n",
       "engaged_last_30                       \n",
       "0.0              458.9725   22214.92  \n",
       "1.0              674.0800   29080.80  \n",
       "unknown          528.9900  103466.10  "
      ]
     },
     "execution_count": 26,
     "metadata": {},
     "output_type": "execute_result"
    }
   ],
   "source": [
    "#类别型变量engaged_last_30与目标列revenue\n",
    "red.groupby('engaged_last_30').revenue.describe()"
   ]
  },
  {
   "cell_type": "markdown",
   "metadata": {},
   "source": [
    "- 最近30天在app上参加重要活动的顾客量很少，但平均销售额高，同时存在大比例未知。\n",
    "- 业务建议：提高用户参与重要活动积极性，有助于提升销售业绩。"
   ]
  },
  {
   "cell_type": "code",
   "execution_count": 27,
   "metadata": {},
   "outputs": [
    {
     "data": {
      "text/html": [
       "<div>\n",
       "<style scoped>\n",
       "    .dataframe tbody tr th:only-of-type {\n",
       "        vertical-align: middle;\n",
       "    }\n",
       "\n",
       "    .dataframe tbody tr th {\n",
       "        vertical-align: top;\n",
       "    }\n",
       "\n",
       "    .dataframe thead th {\n",
       "        text-align: right;\n",
       "    }\n",
       "</style>\n",
       "<table border=\"1\" class=\"dataframe\">\n",
       "  <thead>\n",
       "    <tr style=\"text-align: right;\">\n",
       "      <th></th>\n",
       "      <th>count</th>\n",
       "      <th>mean</th>\n",
       "      <th>std</th>\n",
       "      <th>min</th>\n",
       "      <th>25%</th>\n",
       "      <th>50%</th>\n",
       "      <th>75%</th>\n",
       "      <th>max</th>\n",
       "    </tr>\n",
       "    <tr>\n",
       "      <th>lifecycle</th>\n",
       "      <th></th>\n",
       "      <th></th>\n",
       "      <th></th>\n",
       "      <th></th>\n",
       "      <th></th>\n",
       "      <th></th>\n",
       "      <th></th>\n",
       "      <th></th>\n",
       "    </tr>\n",
       "  </thead>\n",
       "  <tbody>\n",
       "    <tr>\n",
       "      <th>A</th>\n",
       "      <td>3542.0</td>\n",
       "      <td>432.603267</td>\n",
       "      <td>1902.556578</td>\n",
       "      <td>0.02</td>\n",
       "      <td>71.93</td>\n",
       "      <td>170.945</td>\n",
       "      <td>479.835</td>\n",
       "      <td>103466.10</td>\n",
       "    </tr>\n",
       "    <tr>\n",
       "      <th>B</th>\n",
       "      <td>5709.0</td>\n",
       "      <td>379.718743</td>\n",
       "      <td>602.175686</td>\n",
       "      <td>0.10</td>\n",
       "      <td>72.99</td>\n",
       "      <td>179.980</td>\n",
       "      <td>469.190</td>\n",
       "      <td>21068.17</td>\n",
       "    </tr>\n",
       "    <tr>\n",
       "      <th>C</th>\n",
       "      <td>20201.0</td>\n",
       "      <td>395.745516</td>\n",
       "      <td>778.255044</td>\n",
       "      <td>0.02</td>\n",
       "      <td>74.99</td>\n",
       "      <td>174.980</td>\n",
       "      <td>505.980</td>\n",
       "      <td>62100.00</td>\n",
       "    </tr>\n",
       "  </tbody>\n",
       "</table>\n",
       "</div>"
      ],
      "text/plain": [
       "             count        mean          std   min    25%      50%      75%  \\\n",
       "lifecycle                                                                    \n",
       "A           3542.0  432.603267  1902.556578  0.02  71.93  170.945  479.835   \n",
       "B           5709.0  379.718743   602.175686  0.10  72.99  179.980  469.190   \n",
       "C          20201.0  395.745516   778.255044  0.02  74.99  174.980  505.980   \n",
       "\n",
       "                 max  \n",
       "lifecycle             \n",
       "A          103466.10  \n",
       "B           21068.17  \n",
       "C           62100.00  "
      ]
     },
     "execution_count": 27,
     "metadata": {},
     "output_type": "execute_result"
    }
   ],
   "source": [
    "#类别型变量lifecycle与目标列revenue\n",
    "red.groupby('lifecycle').revenue.describe()"
   ]
  },
  {
   "cell_type": "markdown",
   "metadata": {},
   "source": [
    "- 注册6个月之内的顾客，平均销售额高，但大部分顾客是注册两年之内的。\n",
    "- 业务建议：给予老用户福利，刺激其消费；吸引新用户注册，提高新用户数量。"
   ]
  },
  {
   "cell_type": "markdown",
   "metadata": {},
   "source": [
    "## 相关与可视化"
   ]
  },
  {
   "cell_type": "code",
   "execution_count": 28,
   "metadata": {},
   "outputs": [
    {
     "data": {
      "text/html": [
       "<div>\n",
       "<style scoped>\n",
       "    .dataframe tbody tr th:only-of-type {\n",
       "        vertical-align: middle;\n",
       "    }\n",
       "\n",
       "    .dataframe tbody tr th {\n",
       "        vertical-align: top;\n",
       "    }\n",
       "\n",
       "    .dataframe thead th {\n",
       "        text-align: right;\n",
       "    }\n",
       "</style>\n",
       "<table border=\"1\" class=\"dataframe\">\n",
       "  <thead>\n",
       "    <tr style=\"text-align: right;\">\n",
       "      <th></th>\n",
       "      <th>revenue</th>\n",
       "    </tr>\n",
       "  </thead>\n",
       "  <tbody>\n",
       "    <tr>\n",
       "      <th>revenue</th>\n",
       "      <td>1.000000</td>\n",
       "    </tr>\n",
       "    <tr>\n",
       "      <th>previous_order_amount</th>\n",
       "      <td>0.168186</td>\n",
       "    </tr>\n",
       "    <tr>\n",
       "      <th>engaged_last_30_1.0</th>\n",
       "      <td>0.038149</td>\n",
       "    </tr>\n",
       "    <tr>\n",
       "      <th>days_since_last_order</th>\n",
       "      <td>0.036754</td>\n",
       "    </tr>\n",
       "    <tr>\n",
       "      <th>gender_unknown</th>\n",
       "      <td>0.018762</td>\n",
       "    </tr>\n",
       "    <tr>\n",
       "      <th>engaged_last_30_unknown</th>\n",
       "      <td>0.018762</td>\n",
       "    </tr>\n",
       "    <tr>\n",
       "      <th>lifecycle_A</th>\n",
       "      <td>0.013688</td>\n",
       "    </tr>\n",
       "    <tr>\n",
       "      <th>age</th>\n",
       "      <td>0.003292</td>\n",
       "    </tr>\n",
       "    <tr>\n",
       "      <th>gender_1.0</th>\n",
       "      <td>0.000127</td>\n",
       "    </tr>\n",
       "    <tr>\n",
       "      <th>lifecycle_C</th>\n",
       "      <td>-0.002042</td>\n",
       "    </tr>\n",
       "    <tr>\n",
       "      <th>lifecycle_B</th>\n",
       "      <td>-0.008866</td>\n",
       "    </tr>\n",
       "    <tr>\n",
       "      <th>gender_0.0</th>\n",
       "      <td>-0.018694</td>\n",
       "    </tr>\n",
       "    <tr>\n",
       "      <th>3rd_party_stores</th>\n",
       "      <td>-0.026102</td>\n",
       "    </tr>\n",
       "    <tr>\n",
       "      <th>engaged_last_30_0.0</th>\n",
       "      <td>-0.034242</td>\n",
       "    </tr>\n",
       "  </tbody>\n",
       "</table>\n",
       "</div>"
      ],
      "text/plain": [
       "                          revenue\n",
       "revenue                  1.000000\n",
       "previous_order_amount    0.168186\n",
       "engaged_last_30_1.0      0.038149\n",
       " days_since_last_order   0.036754\n",
       "gender_unknown           0.018762\n",
       "engaged_last_30_unknown  0.018762\n",
       "lifecycle_A              0.013688\n",
       "age                      0.003292\n",
       "gender_1.0               0.000127\n",
       "lifecycle_C             -0.002042\n",
       "lifecycle_B             -0.008866\n",
       "gender_0.0              -0.018694\n",
       "3rd_party_stores        -0.026102\n",
       "engaged_last_30_0.0     -0.034242"
      ]
     },
     "execution_count": 28,
     "metadata": {},
     "output_type": "execute_result"
    }
   ],
   "source": [
    "red_dummies.corr()[['revenue']].sort_values('revenue',ascending=False)"
   ]
  },
  {
   "cell_type": "markdown",
   "metadata": {},
   "source": [
    "- 除了previous_order_amount其他值相关性很小。"
   ]
  },
  {
   "cell_type": "code",
   "execution_count": 29,
   "metadata": {},
   "outputs": [
    {
     "data": {
      "text/plain": [
       "<matplotlib.axes._subplots.AxesSubplot at 0x7faabfef6e90>"
      ]
     },
     "execution_count": 29,
     "metadata": {},
     "output_type": "execute_result"
    },
    {
     "data": {
      "image/png": "[encoded data removed]",
      "text/plain": [
       "<Figure size 432x288 with 1 Axes>"
      ]
     },
     "metadata": {
      "needs_background": "light"
     },
     "output_type": "display_data"
    }
   ],
   "source": [
    "#可视化previous_order_amount与revenue回归关系\n",
    "sns.regplot('previous_order_amount','revenue',red)"
   ]
  },
  {
   "cell_type": "markdown",
   "metadata": {},
   "source": [
    "## 建立回归模型"
   ]
  },
  {
   "cell_type": "code",
   "execution_count": 30,
   "metadata": {},
   "outputs": [
    {
     "data": {
      "text/plain": [
       "LinearRegression()"
      ]
     },
     "execution_count": 30,
     "metadata": {},
     "output_type": "execute_result"
    }
   ],
   "source": [
    "from sklearn.linear_model import LinearRegression\n",
    "model=LinearRegression()\n",
    "y=red['revenue']\n",
    "x=red[['previous_order_amount']]\n",
    "model.fit(x,y)"
   ]
  },
  {
   "cell_type": "code",
   "execution_count": 31,
   "metadata": {},
   "outputs": [
    {
     "data": {
      "text/plain": [
       "array([0.06835166])"
      ]
     },
     "execution_count": 31,
     "metadata": {},
     "output_type": "execute_result"
    }
   ],
   "source": [
    "#自变量系数\n",
    "model.coef_"
   ]
  },
  {
   "cell_type": "code",
   "execution_count": 32,
   "metadata": {},
   "outputs": [
    {
     "data": {
      "text/plain": [
       "237.17962270921936"
      ]
     },
     "execution_count": 32,
     "metadata": {},
     "output_type": "execute_result"
    }
   ],
   "source": [
    "#模型截距\n",
    "model.intercept_"
   ]
  },
  {
   "cell_type": "code",
   "execution_count": 33,
   "metadata": {},
   "outputs": [
    {
     "name": "stdout",
     "output_type": "stream",
     "text": [
      "946.0681075269005\n",
      "356.3868842528138\n"
     ]
    }
   ],
   "source": [
    "#模型打分\n",
    "score=model.score(x,y)\n",
    "predictions=model.predict(x)\n",
    "error=predictions-y\n",
    "#计算rmse mae\n",
    "rmse=(error**2).mean()**0.5\n",
    "mae=abs(error).mean()\n",
    "print(rmse)\n",
    "print(mae)"
   ]
  },
  {
   "cell_type": "code",
   "execution_count": 34,
   "metadata": {},
   "outputs": [
    {
     "name": "stdout",
     "output_type": "stream",
     "text": [
      "                            OLS Regression Results                            \n",
      "==============================================================================\n",
      "Dep. Variable:                      y   R-squared:                       0.028\n",
      "Model:                            OLS   Adj. R-squared:                  0.028\n",
      "Method:                 Least Squares   F-statistic:                     857.3\n",
      "Date:                Mon, 10 Aug 2020   Prob (F-statistic):          8.74e-186\n",
      "Time:                        15:32:46   Log-Likelihood:            -2.4360e+05\n",
      "No. Observations:               29452   AIC:                         4.872e+05\n",
      "Df Residuals:                   29450   BIC:                         4.872e+05\n",
      "Df Model:                           1                                         \n",
      "Covariance Type:            nonrobust                                         \n",
      "==============================================================================\n",
      "                 coef    std err          t      P>|t|      [0.025      0.975]\n",
      "------------------------------------------------------------------------------\n",
      "Intercept    237.1796      7.760     30.565      0.000     221.970     252.389\n",
      "x              0.0684      0.002     29.279      0.000       0.064       0.073\n",
      "==============================================================================\n",
      "Omnibus:                    96559.069   Durbin-Watson:                   1.967\n",
      "Prob(Omnibus):                  0.000   Jarque-Bera (JB):      34808041729.255\n",
      "Skew:                          55.880   Prob(JB):                         0.00\n",
      "Kurtosis:                    5327.666   Cond. No.                     4.68e+03\n",
      "==============================================================================\n",
      "\n",
      "Warnings:\n",
      "[1] Standard Errors assume that the covariance matrix of the errors is correctly specified.\n",
      "[2] The condition number is large, 4.68e+03. This might indicate that there are\n",
      "strong multicollinearity or other numerical problems.\n"
     ]
    }
   ],
   "source": [
    "#标准模型输出图\n",
    "from statsmodels.formula.api import ols\n",
    "model_ols=ols('y~x',red).fit()\n",
    "print(model_ols.summary())"
   ]
  },
  {
   "cell_type": "markdown",
   "metadata": {},
   "source": [
    "- 得到模型 revenue=237.1796+0.0684*previous_order_amount\n",
    "- 模型解读：以往积累的购买金额每增加1000个单位，小红书销售额增加68.4个单位。\n",
    "- R方过低（0.028）需要进行模型优化。"
   ]
  },
  {
   "cell_type": "markdown",
   "metadata": {},
   "source": [
    "## 模型优化"
   ]
  },
  {
   "cell_type": "markdown",
   "metadata": {},
   "source": [
    "### 检查缺失值，改善缺失值处理"
   ]
  },
  {
   "cell_type": "code",
   "execution_count": 35,
   "metadata": {},
   "outputs": [
    {
     "data": {
      "text/plain": [
       "array(['unknown'], dtype=object)"
      ]
     },
     "execution_count": 35,
     "metadata": {},
     "output_type": "execute_result"
    }
   ],
   "source": [
    "red.loc[red.gender=='unknown','engaged_last_30'].unique()"
   ]
  },
  {
   "cell_type": "code",
   "execution_count": 36,
   "metadata": {},
   "outputs": [
    {
     "data": {
      "text/plain": [
       "array([29.41928567])"
      ]
     },
     "execution_count": 36,
     "metadata": {},
     "output_type": "execute_result"
    }
   ],
   "source": [
    "red.loc[red.gender=='unknown','age'].unique()"
   ]
  },
  {
   "cell_type": "markdown",
   "metadata": {},
   "source": [
    "- 3个有缺失值的变量一致，有理由怀疑是系统性误差，尝试去除该部分数据后建模。"
   ]
  },
  {
   "cell_type": "code",
   "execution_count": 37,
   "metadata": {},
   "outputs": [
    {
     "data": {
      "text/html": [
       "<div>\n",
       "<style scoped>\n",
       "    .dataframe tbody tr th:only-of-type {\n",
       "        vertical-align: middle;\n",
       "    }\n",
       "\n",
       "    .dataframe tbody tr th {\n",
       "        vertical-align: top;\n",
       "    }\n",
       "\n",
       "    .dataframe thead th {\n",
       "        text-align: right;\n",
       "    }\n",
       "</style>\n",
       "<table border=\"1\" class=\"dataframe\">\n",
       "  <thead>\n",
       "    <tr style=\"text-align: right;\">\n",
       "      <th></th>\n",
       "      <th>revenue</th>\n",
       "      <th>age</th>\n",
       "      <th>days_since_last_order</th>\n",
       "      <th>previous_order_amount</th>\n",
       "      <th>3rd_party_stores</th>\n",
       "    </tr>\n",
       "  </thead>\n",
       "  <tbody>\n",
       "    <tr>\n",
       "      <th>count</th>\n",
       "      <td>17723.000000</td>\n",
       "      <td>17723.000000</td>\n",
       "      <td>17723.000000</td>\n",
       "      <td>17723.000000</td>\n",
       "      <td>17723.000000</td>\n",
       "    </tr>\n",
       "    <tr>\n",
       "      <th>mean</th>\n",
       "      <td>382.422835</td>\n",
       "      <td>29.419286</td>\n",
       "      <td>7.213524</td>\n",
       "      <td>2529.957366</td>\n",
       "      <td>1.974384</td>\n",
       "    </tr>\n",
       "    <tr>\n",
       "      <th>std</th>\n",
       "      <td>650.338310</td>\n",
       "      <td>9.213604</td>\n",
       "      <td>6.208626</td>\n",
       "      <td>2485.866191</td>\n",
       "      <td>3.266018</td>\n",
       "    </tr>\n",
       "    <tr>\n",
       "      <th>min</th>\n",
       "      <td>0.020000</td>\n",
       "      <td>14.000000</td>\n",
       "      <td>0.130000</td>\n",
       "      <td>0.000000</td>\n",
       "      <td>0.000000</td>\n",
       "    </tr>\n",
       "    <tr>\n",
       "      <th>25%</th>\n",
       "      <td>72.980000</td>\n",
       "      <td>21.000000</td>\n",
       "      <td>2.030000</td>\n",
       "      <td>852.975000</td>\n",
       "      <td>0.000000</td>\n",
       "    </tr>\n",
       "    <tr>\n",
       "      <th>50%</th>\n",
       "      <td>169.990000</td>\n",
       "      <td>29.000000</td>\n",
       "      <td>5.450000</td>\n",
       "      <td>1805.309000</td>\n",
       "      <td>0.000000</td>\n",
       "    </tr>\n",
       "    <tr>\n",
       "      <th>75%</th>\n",
       "      <td>479.990000</td>\n",
       "      <td>37.000000</td>\n",
       "      <td>11.160000</td>\n",
       "      <td>3336.754500</td>\n",
       "      <td>3.000000</td>\n",
       "    </tr>\n",
       "    <tr>\n",
       "      <th>max</th>\n",
       "      <td>29080.800000</td>\n",
       "      <td>45.000000</td>\n",
       "      <td>23.710000</td>\n",
       "      <td>11597.900000</td>\n",
       "      <td>10.000000</td>\n",
       "    </tr>\n",
       "  </tbody>\n",
       "</table>\n",
       "</div>"
      ],
      "text/plain": [
       "            revenue           age   days_since_last_order   \\\n",
       "count  17723.000000  17723.000000             17723.000000   \n",
       "mean     382.422835     29.419286                 7.213524   \n",
       "std      650.338310      9.213604                 6.208626   \n",
       "min        0.020000     14.000000                 0.130000   \n",
       "25%       72.980000     21.000000                 2.030000   \n",
       "50%      169.990000     29.000000                 5.450000   \n",
       "75%      479.990000     37.000000                11.160000   \n",
       "max    29080.800000     45.000000                23.710000   \n",
       "\n",
       "       previous_order_amount  3rd_party_stores  \n",
       "count           17723.000000      17723.000000  \n",
       "mean             2529.957366          1.974384  \n",
       "std              2485.866191          3.266018  \n",
       "min                 0.000000          0.000000  \n",
       "25%               852.975000          0.000000  \n",
       "50%              1805.309000          0.000000  \n",
       "75%              3336.754500          3.000000  \n",
       "max             11597.900000         10.000000  "
      ]
     },
     "execution_count": 37,
     "metadata": {},
     "output_type": "execute_result"
    }
   ],
   "source": [
    "red_keep=red[red.gender!='unknown']\n",
    "red_keep.describe()"
   ]
  },
  {
   "cell_type": "markdown",
   "metadata": {},
   "source": [
    "- revenue，previous_order_amount极差还是很大。"
   ]
  },
  {
   "cell_type": "code",
   "execution_count": 38,
   "metadata": {},
   "outputs": [
    {
     "data": {
      "text/html": [
       "<div>\n",
       "<style scoped>\n",
       "    .dataframe tbody tr th:only-of-type {\n",
       "        vertical-align: middle;\n",
       "    }\n",
       "\n",
       "    .dataframe tbody tr th {\n",
       "        vertical-align: top;\n",
       "    }\n",
       "\n",
       "    .dataframe thead th {\n",
       "        text-align: right;\n",
       "    }\n",
       "</style>\n",
       "<table border=\"1\" class=\"dataframe\">\n",
       "  <thead>\n",
       "    <tr style=\"text-align: right;\">\n",
       "      <th></th>\n",
       "      <th>revenue</th>\n",
       "    </tr>\n",
       "  </thead>\n",
       "  <tbody>\n",
       "    <tr>\n",
       "      <th>revenue</th>\n",
       "      <td>1.000000</td>\n",
       "    </tr>\n",
       "    <tr>\n",
       "      <th>previous_order_amount</th>\n",
       "      <td>0.214504</td>\n",
       "    </tr>\n",
       "    <tr>\n",
       "      <th>engaged_last_30_1.0</th>\n",
       "      <td>0.080031</td>\n",
       "    </tr>\n",
       "    <tr>\n",
       "      <th>days_since_last_order</th>\n",
       "      <td>0.059706</td>\n",
       "    </tr>\n",
       "    <tr>\n",
       "      <th>gender_1.0</th>\n",
       "      <td>0.014944</td>\n",
       "    </tr>\n",
       "    <tr>\n",
       "      <th>lifecycle_A</th>\n",
       "      <td>0.010984</td>\n",
       "    </tr>\n",
       "    <tr>\n",
       "      <th>lifecycle_C</th>\n",
       "      <td>0.006577</td>\n",
       "    </tr>\n",
       "    <tr>\n",
       "      <th>age</th>\n",
       "      <td>0.006263</td>\n",
       "    </tr>\n",
       "    <tr>\n",
       "      <th>gender_0.0</th>\n",
       "      <td>-0.014944</td>\n",
       "    </tr>\n",
       "    <tr>\n",
       "      <th>lifecycle_B</th>\n",
       "      <td>-0.016523</td>\n",
       "    </tr>\n",
       "    <tr>\n",
       "      <th>3rd_party_stores</th>\n",
       "      <td>-0.034051</td>\n",
       "    </tr>\n",
       "    <tr>\n",
       "      <th>engaged_last_30_0.0</th>\n",
       "      <td>-0.080031</td>\n",
       "    </tr>\n",
       "  </tbody>\n",
       "</table>\n",
       "</div>"
      ],
      "text/plain": [
       "                          revenue\n",
       "revenue                  1.000000\n",
       "previous_order_amount    0.214504\n",
       "engaged_last_30_1.0      0.080031\n",
       " days_since_last_order   0.059706\n",
       "gender_1.0               0.014944\n",
       "lifecycle_A              0.010984\n",
       "lifecycle_C              0.006577\n",
       "age                      0.006263\n",
       "gender_0.0              -0.014944\n",
       "lifecycle_B             -0.016523\n",
       "3rd_party_stores        -0.034051\n",
       "engaged_last_30_0.0     -0.080031"
      ]
     },
     "execution_count": 38,
     "metadata": {},
     "output_type": "execute_result"
    }
   ],
   "source": [
    "red_keep_dummies=pd.get_dummies(red_keep)\n",
    "red_keep_dummies.corr()[['revenue']].sort_values('revenue',ascending=False)"
   ]
  },
  {
   "cell_type": "markdown",
   "metadata": {},
   "source": [
    "### revenue 处理"
   ]
  },
  {
   "cell_type": "code",
   "execution_count": 39,
   "metadata": {},
   "outputs": [
    {
     "data": {
      "text/plain": [
       "1090.505"
      ]
     },
     "execution_count": 39,
     "metadata": {},
     "output_type": "execute_result"
    }
   ],
   "source": [
    "#revenue离群值处理\n",
    "IQR=red_keep_dummies.revenue.describe()['75%']-red_keep_dummies.revenue.describe()['25%']\n",
    "new_max=red_keep_dummies.revenue.describe()['75%']+1.5*IQR\n",
    "new_max"
   ]
  },
  {
   "cell_type": "code",
   "execution_count": 40,
   "metadata": {},
   "outputs": [
    {
     "data": {
      "text/html": [
       "<div>\n",
       "<style scoped>\n",
       "    .dataframe tbody tr th:only-of-type {\n",
       "        vertical-align: middle;\n",
       "    }\n",
       "\n",
       "    .dataframe tbody tr th {\n",
       "        vertical-align: top;\n",
       "    }\n",
       "\n",
       "    .dataframe thead th {\n",
       "        text-align: right;\n",
       "    }\n",
       "</style>\n",
       "<table border=\"1\" class=\"dataframe\">\n",
       "  <thead>\n",
       "    <tr style=\"text-align: right;\">\n",
       "      <th></th>\n",
       "      <th>revenue</th>\n",
       "      <th>age</th>\n",
       "      <th>days_since_last_order</th>\n",
       "      <th>previous_order_amount</th>\n",
       "      <th>3rd_party_stores</th>\n",
       "      <th>gender_0.0</th>\n",
       "      <th>gender_1.0</th>\n",
       "      <th>engaged_last_30_0.0</th>\n",
       "      <th>engaged_last_30_1.0</th>\n",
       "      <th>lifecycle_A</th>\n",
       "      <th>lifecycle_B</th>\n",
       "      <th>lifecycle_C</th>\n",
       "    </tr>\n",
       "  </thead>\n",
       "  <tbody>\n",
       "    <tr>\n",
       "      <th>count</th>\n",
       "      <td>16349.000000</td>\n",
       "      <td>16349.000000</td>\n",
       "      <td>16349.000000</td>\n",
       "      <td>16349.000000</td>\n",
       "      <td>16349.000000</td>\n",
       "      <td>16349.000000</td>\n",
       "      <td>16349.000000</td>\n",
       "      <td>16349.000000</td>\n",
       "      <td>16349.000000</td>\n",
       "      <td>16349.000000</td>\n",
       "      <td>16349.000000</td>\n",
       "      <td>16349.000000</td>\n",
       "    </tr>\n",
       "    <tr>\n",
       "      <th>mean</th>\n",
       "      <td>258.625584</td>\n",
       "      <td>29.402960</td>\n",
       "      <td>7.113692</td>\n",
       "      <td>2412.073883</td>\n",
       "      <td>2.000122</td>\n",
       "      <td>0.703713</td>\n",
       "      <td>0.296287</td>\n",
       "      <td>0.930516</td>\n",
       "      <td>0.069484</td>\n",
       "      <td>0.125879</td>\n",
       "      <td>0.214142</td>\n",
       "      <td>0.659979</td>\n",
       "    </tr>\n",
       "    <tr>\n",
       "      <th>std</th>\n",
       "      <td>257.249466</td>\n",
       "      <td>9.193697</td>\n",
       "      <td>6.136313</td>\n",
       "      <td>2364.090462</td>\n",
       "      <td>3.273108</td>\n",
       "      <td>0.456633</td>\n",
       "      <td>0.456633</td>\n",
       "      <td>0.254284</td>\n",
       "      <td>0.254284</td>\n",
       "      <td>0.331723</td>\n",
       "      <td>0.410238</td>\n",
       "      <td>0.473730</td>\n",
       "    </tr>\n",
       "    <tr>\n",
       "      <th>min</th>\n",
       "      <td>0.020000</td>\n",
       "      <td>14.000000</td>\n",
       "      <td>0.130000</td>\n",
       "      <td>0.000000</td>\n",
       "      <td>0.000000</td>\n",
       "      <td>0.000000</td>\n",
       "      <td>0.000000</td>\n",
       "      <td>0.000000</td>\n",
       "      <td>0.000000</td>\n",
       "      <td>0.000000</td>\n",
       "      <td>0.000000</td>\n",
       "      <td>0.000000</td>\n",
       "    </tr>\n",
       "    <tr>\n",
       "      <th>25%</th>\n",
       "      <td>69.990000</td>\n",
       "      <td>21.000000</td>\n",
       "      <td>2.000000</td>\n",
       "      <td>826.420000</td>\n",
       "      <td>0.000000</td>\n",
       "      <td>0.000000</td>\n",
       "      <td>0.000000</td>\n",
       "      <td>1.000000</td>\n",
       "      <td>0.000000</td>\n",
       "      <td>0.000000</td>\n",
       "      <td>0.000000</td>\n",
       "      <td>0.000000</td>\n",
       "    </tr>\n",
       "    <tr>\n",
       "      <th>50%</th>\n",
       "      <td>140.000000</td>\n",
       "      <td>29.000000</td>\n",
       "      <td>5.350000</td>\n",
       "      <td>1740.970000</td>\n",
       "      <td>0.000000</td>\n",
       "      <td>1.000000</td>\n",
       "      <td>0.000000</td>\n",
       "      <td>1.000000</td>\n",
       "      <td>0.000000</td>\n",
       "      <td>0.000000</td>\n",
       "      <td>0.000000</td>\n",
       "      <td>1.000000</td>\n",
       "    </tr>\n",
       "    <tr>\n",
       "      <th>75%</th>\n",
       "      <td>371.980000</td>\n",
       "      <td>37.000000</td>\n",
       "      <td>10.970000</td>\n",
       "      <td>3195.460000</td>\n",
       "      <td>3.000000</td>\n",
       "      <td>1.000000</td>\n",
       "      <td>1.000000</td>\n",
       "      <td>1.000000</td>\n",
       "      <td>0.000000</td>\n",
       "      <td>0.000000</td>\n",
       "      <td>0.000000</td>\n",
       "      <td>1.000000</td>\n",
       "    </tr>\n",
       "    <tr>\n",
       "      <th>max</th>\n",
       "      <td>1090.890000</td>\n",
       "      <td>45.000000</td>\n",
       "      <td>23.710000</td>\n",
       "      <td>11597.900000</td>\n",
       "      <td>10.000000</td>\n",
       "      <td>1.000000</td>\n",
       "      <td>1.000000</td>\n",
       "      <td>1.000000</td>\n",
       "      <td>1.000000</td>\n",
       "      <td>1.000000</td>\n",
       "      <td>1.000000</td>\n",
       "      <td>1.000000</td>\n",
       "    </tr>\n",
       "  </tbody>\n",
       "</table>\n",
       "</div>"
      ],
      "text/plain": [
       "            revenue           age   days_since_last_order   \\\n",
       "count  16349.000000  16349.000000             16349.000000   \n",
       "mean     258.625584     29.402960                 7.113692   \n",
       "std      257.249466      9.193697                 6.136313   \n",
       "min        0.020000     14.000000                 0.130000   \n",
       "25%       69.990000     21.000000                 2.000000   \n",
       "50%      140.000000     29.000000                 5.350000   \n",
       "75%      371.980000     37.000000                10.970000   \n",
       "max     1090.890000     45.000000                23.710000   \n",
       "\n",
       "       previous_order_amount  3rd_party_stores    gender_0.0    gender_1.0  \\\n",
       "count           16349.000000      16349.000000  16349.000000  16349.000000   \n",
       "mean             2412.073883          2.000122      0.703713      0.296287   \n",
       "std              2364.090462          3.273108      0.456633      0.456633   \n",
       "min                 0.000000          0.000000      0.000000      0.000000   \n",
       "25%               826.420000          0.000000      0.000000      0.000000   \n",
       "50%              1740.970000          0.000000      1.000000      0.000000   \n",
       "75%              3195.460000          3.000000      1.000000      1.000000   \n",
       "max             11597.900000         10.000000      1.000000      1.000000   \n",
       "\n",
       "       engaged_last_30_0.0  engaged_last_30_1.0   lifecycle_A   lifecycle_B  \\\n",
       "count         16349.000000         16349.000000  16349.000000  16349.000000   \n",
       "mean              0.930516             0.069484      0.125879      0.214142   \n",
       "std               0.254284             0.254284      0.331723      0.410238   \n",
       "min               0.000000             0.000000      0.000000      0.000000   \n",
       "25%               1.000000             0.000000      0.000000      0.000000   \n",
       "50%               1.000000             0.000000      0.000000      0.000000   \n",
       "75%               1.000000             0.000000      0.000000      0.000000   \n",
       "max               1.000000             1.000000      1.000000      1.000000   \n",
       "\n",
       "        lifecycle_C  \n",
       "count  16349.000000  \n",
       "mean       0.659979  \n",
       "std        0.473730  \n",
       "min        0.000000  \n",
       "25%        0.000000  \n",
       "50%        1.000000  \n",
       "75%        1.000000  \n",
       "max        1.000000  "
      ]
     },
     "execution_count": 40,
     "metadata": {},
     "output_type": "execute_result"
    }
   ],
   "source": [
    "#revenue筛选极值\n",
    "red_keep_dummies2=red_keep_dummies[red_keep_dummies.revenue<1091]\n",
    "red_keep_dummies2.describe()"
   ]
  },
  {
   "cell_type": "code",
   "execution_count": 41,
   "metadata": {},
   "outputs": [
    {
     "data": {
      "text/html": [
       "<div>\n",
       "<style scoped>\n",
       "    .dataframe tbody tr th:only-of-type {\n",
       "        vertical-align: middle;\n",
       "    }\n",
       "\n",
       "    .dataframe tbody tr th {\n",
       "        vertical-align: top;\n",
       "    }\n",
       "\n",
       "    .dataframe thead th {\n",
       "        text-align: right;\n",
       "    }\n",
       "</style>\n",
       "<table border=\"1\" class=\"dataframe\">\n",
       "  <thead>\n",
       "    <tr style=\"text-align: right;\">\n",
       "      <th></th>\n",
       "      <th>revenue</th>\n",
       "    </tr>\n",
       "  </thead>\n",
       "  <tbody>\n",
       "    <tr>\n",
       "      <th>revenue</th>\n",
       "      <td>1.000000</td>\n",
       "    </tr>\n",
       "    <tr>\n",
       "      <th>previous_order_amount</th>\n",
       "      <td>0.156669</td>\n",
       "    </tr>\n",
       "    <tr>\n",
       "      <th>days_since_last_order</th>\n",
       "      <td>0.106411</td>\n",
       "    </tr>\n",
       "    <tr>\n",
       "      <th>engaged_last_30_1.0</th>\n",
       "      <td>0.071823</td>\n",
       "    </tr>\n",
       "    <tr>\n",
       "      <th>lifecycle_C</th>\n",
       "      <td>0.020118</td>\n",
       "    </tr>\n",
       "    <tr>\n",
       "      <th>gender_1.0</th>\n",
       "      <td>0.012769</td>\n",
       "    </tr>\n",
       "    <tr>\n",
       "      <th>age</th>\n",
       "      <td>0.002088</td>\n",
       "    </tr>\n",
       "    <tr>\n",
       "      <th>lifecycle_B</th>\n",
       "      <td>-0.011088</td>\n",
       "    </tr>\n",
       "    <tr>\n",
       "      <th>gender_0.0</th>\n",
       "      <td>-0.012769</td>\n",
       "    </tr>\n",
       "    <tr>\n",
       "      <th>lifecycle_A</th>\n",
       "      <td>-0.015018</td>\n",
       "    </tr>\n",
       "    <tr>\n",
       "      <th>3rd_party_stores</th>\n",
       "      <td>-0.055004</td>\n",
       "    </tr>\n",
       "    <tr>\n",
       "      <th>engaged_last_30_0.0</th>\n",
       "      <td>-0.071823</td>\n",
       "    </tr>\n",
       "  </tbody>\n",
       "</table>\n",
       "</div>"
      ],
      "text/plain": [
       "                          revenue\n",
       "revenue                  1.000000\n",
       "previous_order_amount    0.156669\n",
       " days_since_last_order   0.106411\n",
       "engaged_last_30_1.0      0.071823\n",
       "lifecycle_C              0.020118\n",
       "gender_1.0               0.012769\n",
       "age                      0.002088\n",
       "lifecycle_B             -0.011088\n",
       "gender_0.0              -0.012769\n",
       "lifecycle_A             -0.015018\n",
       "3rd_party_stores        -0.055004\n",
       "engaged_last_30_0.0     -0.071823"
      ]
     },
     "execution_count": 41,
     "metadata": {},
     "output_type": "execute_result"
    }
   ],
   "source": [
    "red_keep_dummies2.corr()[['revenue']].sort_values('revenue',ascending=False)"
   ]
  },
  {
   "cell_type": "code",
   "execution_count": 42,
   "metadata": {},
   "outputs": [
    {
     "data": {
      "image/png": "[encoded data removed]",
      "text/plain": [
       "<Figure size 432x288 with 1 Axes>"
      ]
     },
     "metadata": {
      "needs_background": "light"
     },
     "output_type": "display_data"
    }
   ],
   "source": [
    "sns.regplot('previous_order_amount','revenue',red_keep_dummies2);"
   ]
  },
  {
   "cell_type": "code",
   "execution_count": 43,
   "metadata": {},
   "outputs": [
    {
     "name": "stdout",
     "output_type": "stream",
     "text": [
      "                            OLS Regression Results                            \n",
      "==============================================================================\n",
      "Dep. Variable:                      y   R-squared:                       0.025\n",
      "Model:                            OLS   Adj. R-squared:                  0.024\n",
      "Method:                 Least Squares   F-statistic:                     411.3\n",
      "Date:                Mon, 10 Aug 2020   Prob (F-statistic):           2.42e-90\n",
      "Time:                        15:32:48   Log-Likelihood:            -1.1373e+05\n",
      "No. Observations:               16349   AIC:                         2.275e+05\n",
      "Df Residuals:                   16347   BIC:                         2.275e+05\n",
      "Df Model:                           1                                         \n",
      "Covariance Type:            nonrobust                                         \n",
      "==============================================================================\n",
      "                 coef    std err          t      P>|t|      [0.025      0.975]\n",
      "------------------------------------------------------------------------------\n",
      "Intercept    217.5046      2.839     76.615      0.000     211.940     223.069\n",
      "x              0.0170      0.001     20.281      0.000       0.015       0.019\n",
      "==============================================================================\n",
      "Omnibus:                     3247.038   Durbin-Watson:                   1.981\n",
      "Prob(Omnibus):                  0.000   Jarque-Bera (JB):             5551.453\n",
      "Skew:                           1.341   Prob(JB):                         0.00\n",
      "Kurtosis:                       3.980   Cond. No.                     4.83e+03\n",
      "==============================================================================\n",
      "\n",
      "Warnings:\n",
      "[1] Standard Errors assume that the covariance matrix of the errors is correctly specified.\n",
      "[2] The condition number is large, 4.83e+03. This might indicate that there are\n",
      "strong multicollinearity or other numerical problems.\n"
     ]
    }
   ],
   "source": [
    "y=red_keep_dummies2['revenue']\n",
    "x=red_keep_dummies2[['previous_order_amount']]\n",
    "model_ols=ols('y~x',red_keep_dummies2).fit()\n",
    "print(model_ols.summary())"
   ]
  },
  {
   "cell_type": "markdown",
   "metadata": {},
   "source": [
    "### 增加x变量"
   ]
  },
  {
   "cell_type": "code",
   "execution_count": 44,
   "metadata": {},
   "outputs": [
    {
     "name": "stdout",
     "output_type": "stream",
     "text": [
      "                            OLS Regression Results                            \n",
      "==============================================================================\n",
      "Dep. Variable:                      y   R-squared:                       0.041\n",
      "Model:                            OLS   Adj. R-squared:                  0.041\n",
      "Method:                 Least Squares   F-statistic:                     234.1\n",
      "Date:                Mon, 10 Aug 2020   Prob (F-statistic):          1.00e-148\n",
      "Time:                        15:32:48   Log-Likelihood:            -1.1359e+05\n",
      "No. Observations:               16349   AIC:                         2.272e+05\n",
      "Df Residuals:                   16345   BIC:                         2.272e+05\n",
      "Df Model:                           3                                         \n",
      "Covariance Type:            nonrobust                                         \n",
      "==============================================================================\n",
      "                 coef    std err          t      P>|t|      [0.025      0.975]\n",
      "------------------------------------------------------------------------------\n",
      "Intercept    177.5474      3.748     47.376      0.000     170.202     184.893\n",
      "x[0]           0.0174      0.001     20.519      0.000       0.016       0.019\n",
      "x[1]           5.0395      0.322     15.636      0.000       4.408       5.671\n",
      "x[2]          47.7067      7.844      6.082      0.000      32.331      63.082\n",
      "==============================================================================\n",
      "Omnibus:                     3226.576   Durbin-Watson:                   1.981\n",
      "Prob(Omnibus):                  0.000   Jarque-Bera (JB):             5513.186\n",
      "Skew:                           1.327   Prob(JB):                         0.00\n",
      "Kurtosis:                       4.024   Cond. No.                     1.35e+04\n",
      "==============================================================================\n",
      "\n",
      "Warnings:\n",
      "[1] Standard Errors assume that the covariance matrix of the errors is correctly specified.\n",
      "[2] The condition number is large, 1.35e+04. This might indicate that there are\n",
      "strong multicollinearity or other numerical problems.\n"
     ]
    }
   ],
   "source": [
    "y=red_keep_dummies2['revenue']\n",
    "x=red_keep_dummies2[['previous_order_amount',' days_since_last_order ','engaged_last_30_1.0']]\n",
    "model_ols=ols('y~x',red_keep_dummies2).fit()\n",
    "print(model_ols.summary())"
   ]
  },
  {
   "cell_type": "code",
   "execution_count": 45,
   "metadata": {},
   "outputs": [
    {
     "name": "stdout",
     "output_type": "stream",
     "text": [
      "251.8870955180916\n",
      "197.5878055971549\n"
     ]
    }
   ],
   "source": [
    "model.fit(x,y)\n",
    "score=model.score(x,y)\n",
    "predictions=model.predict(x)\n",
    "error=predictions-y\n",
    "rmse=(error**2).mean()**.5\n",
    "mae=abs(error).mean()\n",
    "print(rmse)\n",
    "print(mae)"
   ]
  },
  {
   "cell_type": "markdown",
   "metadata": {},
   "source": [
    "## 业务建议"
   ]
  },
  {
   "cell_type": "markdown",
   "metadata": {},
   "source": [
    "* 优化后模型R方上升为0.041，intercept及x的P值显著，rmse mae下降\n",
    "* 现模型为：revenue=177.5 + 0.02 * previous_order_amount + 5.04 * days_since_last_order + 47.71 * engaged_last_30_1.0\n",
    "* 模型解读：\n",
    "\n",
    " 用户以往累计购买金额每增加100个单位，小红书销售额增加2个单位；\n",
    " \n",
    " 用户最近一次下单的天数距今增加100个单位，小红书销售额增加504个单位；\n",
    " \n",
    " 最近30天有在app参加重要活动的用户每增加100个单位，小红书销售额增加4771个单位；\n",
    "\n",
    "——\n",
    "\n",
    "* 业务建议：\n",
    "\n",
    "1.生命周期长的用户占比大，建议采取拉新活动，增长新用户。\n",
    "\n",
    "2.可以给长时间未下单用户推送活动，有较高下单可能。\n",
    "\n",
    "3.增加自营产品平台竞争力（价格优势，质量保证，物流高效等），降低用户在第3方商家购买数量。\n",
    "\n",
    "4.对参与重要活动用户给予奖励，增加参与重要活动人数，留住用户，增强黏性，对其推荐相关可能喜欢商品。"
   ]
  }
 ],
 "metadata": {
  "kernelspec": {
   "display_name": "Python 3",
   "language": "python",
   "name": "python3"
  },
  "language_info": {
   "codemirror_mode": {
    "name": "ipython",
    "version": 3
   },
   "file_extension": ".py",
   "mimetype": "text/x-python",
   "name": "python",
   "nbconvert_exporter": "python",
   "pygments_lexer": "ipython3",
   "version": "3.7.6"
  },
  "toc": {
   "base_numbering": 1,
   "nav_menu": {},
   "number_sections": true,
   "sideBar": true,
   "skip_h1_title": false,
   "title_cell": "Table of Contents",
   "title_sidebar": "Contents",
   "toc_cell": false,
   "toc_position": {},
   "toc_section_display": true,
   "toc_window_display": true
  }
 },
 "nbformat": 4,
 "nbformat_minor": 4
}
