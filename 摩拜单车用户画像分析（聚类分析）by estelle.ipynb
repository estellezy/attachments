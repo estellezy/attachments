{
 "cells": [
  {
   "cell_type": "markdown",
   "metadata": {},
   "source": [
    "# 数据准备"
   ]
  },
  {
   "cell_type": "code",
   "execution_count": 1,
   "metadata": {},
   "outputs": [],
   "source": [
    "#导包\n",
    "import pandas as pd\n",
    "import seaborn as sns\n",
    "import numpy as np\n",
    "import matplotlib.pyplot as plt\n",
    "%matplotlib inline"
   ]
  },
  {
   "cell_type": "code",
   "execution_count": 2,
   "metadata": {},
   "outputs": [],
   "source": [
    "#读取数据\n",
    "mobike=pd.read_csv(r'/Users/apple/Desktop/商业数据分析项目/week 8/week4.mobike.csv',index_col=0)"
   ]
  },
  {
   "cell_type": "code",
   "execution_count": 3,
   "metadata": {},
   "outputs": [],
   "source": [
    "#显示中文\n",
    "plt.rcParams['font.sans-serif']=['Arial Unicode MS']\n",
    "#忽略报错\n",
    "import warnings\n",
    "warnings.filterwarnings('ignore')"
   ]
  },
  {
   "cell_type": "code",
   "execution_count": 4,
   "metadata": {},
   "outputs": [
    {
     "data": {
      "text/html": [
       "<div>\n",
       "<style scoped>\n",
       "    .dataframe tbody tr th:only-of-type {\n",
       "        vertical-align: middle;\n",
       "    }\n",
       "\n",
       "    .dataframe tbody tr th {\n",
       "        vertical-align: top;\n",
       "    }\n",
       "\n",
       "    .dataframe thead th {\n",
       "        text-align: right;\n",
       "    }\n",
       "</style>\n",
       "<table border=\"1\" class=\"dataframe\">\n",
       "  <thead>\n",
       "    <tr style=\"text-align: right;\">\n",
       "      <th></th>\n",
       "      <th>user_id</th>\n",
       "      <th>start_time</th>\n",
       "      <th>end_time</th>\n",
       "      <th>timeduration</th>\n",
       "      <th>bikeid</th>\n",
       "      <th>tripduration</th>\n",
       "      <th>from_station_id</th>\n",
       "      <th>from_station_name</th>\n",
       "      <th>to_station_id</th>\n",
       "      <th>to_station_name</th>\n",
       "      <th>usertype</th>\n",
       "      <th>gender</th>\n",
       "      <th>birthyear</th>\n",
       "      <th>age</th>\n",
       "    </tr>\n",
       "  </thead>\n",
       "  <tbody>\n",
       "    <tr>\n",
       "      <th>439283</th>\n",
       "      <td>21499218</td>\n",
       "      <td>11/14/2018 7:37</td>\n",
       "      <td>11/14/2018 7:44</td>\n",
       "      <td>7</td>\n",
       "      <td>2631</td>\n",
       "      <td>436</td>\n",
       "      <td>319</td>\n",
       "      <td>Greenview Ave &amp; Diversey Pkwy</td>\n",
       "      <td>67</td>\n",
       "      <td>Sheffield Ave &amp; Fullerton Ave</td>\n",
       "      <td>Subscriber</td>\n",
       "      <td>Male</td>\n",
       "      <td>1982.0</td>\n",
       "      <td>37</td>\n",
       "    </tr>\n",
       "    <tr>\n",
       "      <th>603317</th>\n",
       "      <td>21694389</td>\n",
       "      <td>12/18/2018 19:02</td>\n",
       "      <td>12/18/2018 19:10</td>\n",
       "      <td>7</td>\n",
       "      <td>1565</td>\n",
       "      <td>445</td>\n",
       "      <td>164</td>\n",
       "      <td>Franklin St &amp; Lake St</td>\n",
       "      <td>195</td>\n",
       "      <td>Columbus Dr &amp; Randolph St</td>\n",
       "      <td>Subscriber</td>\n",
       "      <td>Male</td>\n",
       "      <td>1988.0</td>\n",
       "      <td>31</td>\n",
       "    </tr>\n",
       "    <tr>\n",
       "      <th>109957</th>\n",
       "      <td>21110722</td>\n",
       "      <td>10/9/2018 12:37</td>\n",
       "      <td>10/9/2018 12:55</td>\n",
       "      <td>18</td>\n",
       "      <td>2231</td>\n",
       "      <td>1090</td>\n",
       "      <td>163</td>\n",
       "      <td>Damen Ave &amp; Clybourn Ave</td>\n",
       "      <td>69</td>\n",
       "      <td>Damen Ave &amp; Pierce Ave</td>\n",
       "      <td>Customer</td>\n",
       "      <td>Male</td>\n",
       "      <td>1989.0</td>\n",
       "      <td>30</td>\n",
       "    </tr>\n",
       "    <tr>\n",
       "      <th>428082</th>\n",
       "      <td>21485409</td>\n",
       "      <td>11/12/2018 12:30</td>\n",
       "      <td>11/12/2018 12:40</td>\n",
       "      <td>9</td>\n",
       "      <td>4226</td>\n",
       "      <td>581</td>\n",
       "      <td>226</td>\n",
       "      <td>Racine Ave &amp; Belmont Ave</td>\n",
       "      <td>308</td>\n",
       "      <td>Seeley Ave &amp; Roscoe St</td>\n",
       "      <td>Subscriber</td>\n",
       "      <td>Female</td>\n",
       "      <td>1989.0</td>\n",
       "      <td>30</td>\n",
       "    </tr>\n",
       "    <tr>\n",
       "      <th>395437</th>\n",
       "      <td>21445994</td>\n",
       "      <td>11/7/2018 7:29</td>\n",
       "      <td>11/7/2018 7:35</td>\n",
       "      <td>6</td>\n",
       "      <td>3475</td>\n",
       "      <td>390</td>\n",
       "      <td>77</td>\n",
       "      <td>Clinton St &amp; Madison St</td>\n",
       "      <td>621</td>\n",
       "      <td>Aberdeen St &amp; Randolph St</td>\n",
       "      <td>Subscriber</td>\n",
       "      <td>Male</td>\n",
       "      <td>1979.0</td>\n",
       "      <td>40</td>\n",
       "    </tr>\n",
       "  </tbody>\n",
       "</table>\n",
       "</div>"
      ],
      "text/plain": [
       "         user_id        start_time          end_time  timeduration  bikeid  \\\n",
       "439283  21499218   11/14/2018 7:37   11/14/2018 7:44             7    2631   \n",
       "603317  21694389  12/18/2018 19:02  12/18/2018 19:10             7    1565   \n",
       "109957  21110722   10/9/2018 12:37   10/9/2018 12:55            18    2231   \n",
       "428082  21485409  11/12/2018 12:30  11/12/2018 12:40             9    4226   \n",
       "395437  21445994    11/7/2018 7:29    11/7/2018 7:35             6    3475   \n",
       "\n",
       "        tripduration  from_station_id              from_station_name  \\\n",
       "439283           436              319  Greenview Ave & Diversey Pkwy   \n",
       "603317           445              164          Franklin St & Lake St   \n",
       "109957          1090              163       Damen Ave & Clybourn Ave   \n",
       "428082           581              226       Racine Ave & Belmont Ave   \n",
       "395437           390               77        Clinton St & Madison St   \n",
       "\n",
       "        to_station_id                to_station_name    usertype  gender  \\\n",
       "439283             67  Sheffield Ave & Fullerton Ave  Subscriber    Male   \n",
       "603317            195      Columbus Dr & Randolph St  Subscriber    Male   \n",
       "109957             69         Damen Ave & Pierce Ave    Customer    Male   \n",
       "428082            308         Seeley Ave & Roscoe St  Subscriber  Female   \n",
       "395437            621      Aberdeen St & Randolph St  Subscriber    Male   \n",
       "\n",
       "        birthyear age  \n",
       "439283     1982.0  37  \n",
       "603317     1988.0  31  \n",
       "109957     1989.0  30  \n",
       "428082     1989.0  30  \n",
       "395437     1979.0  40  "
      ]
     },
     "execution_count": 4,
     "metadata": {},
     "output_type": "execute_result"
    }
   ],
   "source": [
    "mobike.head()"
   ]
  },
  {
   "cell_type": "code",
   "execution_count": 5,
   "metadata": {},
   "outputs": [
    {
     "data": {
      "text/plain": [
       "(6427, 14)"
      ]
     },
     "execution_count": 5,
     "metadata": {},
     "output_type": "execute_result"
    }
   ],
   "source": [
    "mobike.shape"
   ]
  },
  {
   "cell_type": "code",
   "execution_count": 6,
   "metadata": {},
   "outputs": [
    {
     "name": "stdout",
     "output_type": "stream",
     "text": [
      "<class 'pandas.core.frame.DataFrame'>\n",
      "Int64Index: 6427 entries, 439283 to 278179\n",
      "Data columns (total 14 columns):\n",
      " #   Column             Non-Null Count  Dtype  \n",
      "---  ------             --------------  -----  \n",
      " 0   user_id            6427 non-null   int64  \n",
      " 1   start_time         6427 non-null   object \n",
      " 2   end_time           6427 non-null   object \n",
      " 3   timeduration       6427 non-null   int64  \n",
      " 4   bikeid             6427 non-null   int64  \n",
      " 5   tripduration       6427 non-null   int64  \n",
      " 6   from_station_id    6427 non-null   int64  \n",
      " 7   from_station_name  6427 non-null   object \n",
      " 8   to_station_id      6427 non-null   int64  \n",
      " 9   to_station_name    6427 non-null   object \n",
      " 10  usertype           6427 non-null   object \n",
      " 11  gender             5938 non-null   object \n",
      " 12  birthyear          5956 non-null   float64\n",
      " 13  age                6427 non-null   object \n",
      "dtypes: float64(1), int64(6), object(7)\n",
      "memory usage: 753.2+ KB\n"
     ]
    }
   ],
   "source": [
    "mobike.info()"
   ]
  },
  {
   "cell_type": "markdown",
   "metadata": {},
   "source": [
    "- gender,birthyear 有缺失\n",
    "- user_id，start_time，end_time，from_station_id,to_station_id，age 有数据类型错误"
   ]
  },
  {
   "cell_type": "code",
   "execution_count": 7,
   "metadata": {},
   "outputs": [
    {
     "data": {
      "text/plain": [
       "user_id              0.000000\n",
       "start_time           0.000000\n",
       "end_time             0.000000\n",
       "timeduration         0.000000\n",
       "bikeid               0.000000\n",
       "tripduration         0.000000\n",
       "from_station_id      0.000000\n",
       "from_station_name    0.000000\n",
       "to_station_id        0.000000\n",
       "to_station_name      0.000000\n",
       "usertype             0.000000\n",
       "gender               0.076085\n",
       "birthyear            0.073285\n",
       "age                  0.000000\n",
       "dtype: float64"
      ]
     },
     "execution_count": 7,
     "metadata": {},
     "output_type": "execute_result"
    }
   ],
   "source": [
    "#查看缺失占比\n",
    "mobike.isnull().sum()/len(mobike)"
   ]
  },
  {
   "cell_type": "code",
   "execution_count": 8,
   "metadata": {},
   "outputs": [
    {
     "data": {
      "text/html": [
       "<div>\n",
       "<style scoped>\n",
       "    .dataframe tbody tr th:only-of-type {\n",
       "        vertical-align: middle;\n",
       "    }\n",
       "\n",
       "    .dataframe tbody tr th {\n",
       "        vertical-align: top;\n",
       "    }\n",
       "\n",
       "    .dataframe thead th {\n",
       "        text-align: right;\n",
       "    }\n",
       "</style>\n",
       "<table border=\"1\" class=\"dataframe\">\n",
       "  <thead>\n",
       "    <tr style=\"text-align: right;\">\n",
       "      <th></th>\n",
       "      <th>user_id</th>\n",
       "      <th>start_time</th>\n",
       "      <th>end_time</th>\n",
       "      <th>timeduration</th>\n",
       "      <th>bikeid</th>\n",
       "      <th>tripduration</th>\n",
       "      <th>from_station_id</th>\n",
       "      <th>from_station_name</th>\n",
       "      <th>to_station_id</th>\n",
       "      <th>to_station_name</th>\n",
       "      <th>usertype</th>\n",
       "      <th>gender</th>\n",
       "      <th>birthyear</th>\n",
       "      <th>age</th>\n",
       "    </tr>\n",
       "  </thead>\n",
       "  <tbody>\n",
       "    <tr>\n",
       "      <th>count</th>\n",
       "      <td>6.427000e+03</td>\n",
       "      <td>6427</td>\n",
       "      <td>6427</td>\n",
       "      <td>6427.000000</td>\n",
       "      <td>6427.000000</td>\n",
       "      <td>6.427000e+03</td>\n",
       "      <td>6427.000000</td>\n",
       "      <td>6427</td>\n",
       "      <td>6427.000000</td>\n",
       "      <td>6427</td>\n",
       "      <td>6427</td>\n",
       "      <td>5938</td>\n",
       "      <td>5956.000000</td>\n",
       "      <td>6427</td>\n",
       "    </tr>\n",
       "    <tr>\n",
       "      <th>unique</th>\n",
       "      <td>NaN</td>\n",
       "      <td>6060</td>\n",
       "      <td>6053</td>\n",
       "      <td>NaN</td>\n",
       "      <td>NaN</td>\n",
       "      <td>NaN</td>\n",
       "      <td>NaN</td>\n",
       "      <td>475</td>\n",
       "      <td>NaN</td>\n",
       "      <td>483</td>\n",
       "      <td>2</td>\n",
       "      <td>2</td>\n",
       "      <td>NaN</td>\n",
       "      <td>63</td>\n",
       "    </tr>\n",
       "    <tr>\n",
       "      <th>top</th>\n",
       "      <td>NaN</td>\n",
       "      <td>10/16/2018 17:04</td>\n",
       "      <td>10/26/2018 8:35</td>\n",
       "      <td>NaN</td>\n",
       "      <td>NaN</td>\n",
       "      <td>NaN</td>\n",
       "      <td>NaN</td>\n",
       "      <td>Canal St &amp; Adams St</td>\n",
       "      <td>NaN</td>\n",
       "      <td>Clinton St &amp; Madison St</td>\n",
       "      <td>Subscriber</td>\n",
       "      <td>Male</td>\n",
       "      <td>NaN</td>\n",
       "      <td></td>\n",
       "    </tr>\n",
       "    <tr>\n",
       "      <th>freq</th>\n",
       "      <td>NaN</td>\n",
       "      <td>4</td>\n",
       "      <td>3</td>\n",
       "      <td>NaN</td>\n",
       "      <td>NaN</td>\n",
       "      <td>NaN</td>\n",
       "      <td>NaN</td>\n",
       "      <td>121</td>\n",
       "      <td>NaN</td>\n",
       "      <td>106</td>\n",
       "      <td>5753</td>\n",
       "      <td>4637</td>\n",
       "      <td>NaN</td>\n",
       "      <td>471</td>\n",
       "    </tr>\n",
       "    <tr>\n",
       "      <th>mean</th>\n",
       "      <td>2.135519e+07</td>\n",
       "      <td>NaN</td>\n",
       "      <td>NaN</td>\n",
       "      <td>11.778902</td>\n",
       "      <td>3491.637934</td>\n",
       "      <td>1.060471e+03</td>\n",
       "      <td>195.038432</td>\n",
       "      <td>NaN</td>\n",
       "      <td>198.502567</td>\n",
       "      <td>NaN</td>\n",
       "      <td>NaN</td>\n",
       "      <td>NaN</td>\n",
       "      <td>1982.488583</td>\n",
       "      <td>NaN</td>\n",
       "    </tr>\n",
       "    <tr>\n",
       "      <th>std</th>\n",
       "      <td>2.181294e+05</td>\n",
       "      <td>NaN</td>\n",
       "      <td>NaN</td>\n",
       "      <td>9.692236</td>\n",
       "      <td>1912.171846</td>\n",
       "      <td>1.456811e+04</td>\n",
       "      <td>148.170025</td>\n",
       "      <td>NaN</td>\n",
       "      <td>148.939873</td>\n",
       "      <td>NaN</td>\n",
       "      <td>NaN</td>\n",
       "      <td>NaN</td>\n",
       "      <td>11.147859</td>\n",
       "      <td>NaN</td>\n",
       "    </tr>\n",
       "    <tr>\n",
       "      <th>min</th>\n",
       "      <td>2.098358e+07</td>\n",
       "      <td>NaN</td>\n",
       "      <td>NaN</td>\n",
       "      <td>0.000000</td>\n",
       "      <td>2.000000</td>\n",
       "      <td>6.100000e+01</td>\n",
       "      <td>2.000000</td>\n",
       "      <td>NaN</td>\n",
       "      <td>2.000000</td>\n",
       "      <td>NaN</td>\n",
       "      <td>NaN</td>\n",
       "      <td>NaN</td>\n",
       "      <td>1906.000000</td>\n",
       "      <td>NaN</td>\n",
       "    </tr>\n",
       "    <tr>\n",
       "      <th>25%</th>\n",
       "      <td>2.116805e+07</td>\n",
       "      <td>NaN</td>\n",
       "      <td>NaN</td>\n",
       "      <td>5.000000</td>\n",
       "      <td>1852.000000</td>\n",
       "      <td>3.490000e+02</td>\n",
       "      <td>77.000000</td>\n",
       "      <td>NaN</td>\n",
       "      <td>80.000000</td>\n",
       "      <td>NaN</td>\n",
       "      <td>NaN</td>\n",
       "      <td>NaN</td>\n",
       "      <td>1977.000000</td>\n",
       "      <td>NaN</td>\n",
       "    </tr>\n",
       "    <tr>\n",
       "      <th>50%</th>\n",
       "      <td>2.135114e+07</td>\n",
       "      <td>NaN</td>\n",
       "      <td>NaN</td>\n",
       "      <td>9.000000</td>\n",
       "      <td>3618.000000</td>\n",
       "      <td>5.590000e+02</td>\n",
       "      <td>168.000000</td>\n",
       "      <td>NaN</td>\n",
       "      <td>172.000000</td>\n",
       "      <td>NaN</td>\n",
       "      <td>NaN</td>\n",
       "      <td>NaN</td>\n",
       "      <td>1986.000000</td>\n",
       "      <td>NaN</td>\n",
       "    </tr>\n",
       "    <tr>\n",
       "      <th>75%</th>\n",
       "      <td>2.154376e+07</td>\n",
       "      <td>NaN</td>\n",
       "      <td>NaN</td>\n",
       "      <td>15.000000</td>\n",
       "      <td>5179.500000</td>\n",
       "      <td>9.320000e+02</td>\n",
       "      <td>287.000000</td>\n",
       "      <td>NaN</td>\n",
       "      <td>287.000000</td>\n",
       "      <td>NaN</td>\n",
       "      <td>NaN</td>\n",
       "      <td>NaN</td>\n",
       "      <td>1991.000000</td>\n",
       "      <td>NaN</td>\n",
       "    </tr>\n",
       "    <tr>\n",
       "      <th>max</th>\n",
       "      <td>2.174223e+07</td>\n",
       "      <td>NaN</td>\n",
       "      <td>NaN</td>\n",
       "      <td>59.000000</td>\n",
       "      <td>6470.000000</td>\n",
       "      <td>1.139070e+06</td>\n",
       "      <td>662.000000</td>\n",
       "      <td>NaN</td>\n",
       "      <td>661.000000</td>\n",
       "      <td>NaN</td>\n",
       "      <td>NaN</td>\n",
       "      <td>NaN</td>\n",
       "      <td>2002.000000</td>\n",
       "      <td>NaN</td>\n",
       "    </tr>\n",
       "  </tbody>\n",
       "</table>\n",
       "</div>"
      ],
      "text/plain": [
       "             user_id        start_time         end_time  timeduration  \\\n",
       "count   6.427000e+03              6427             6427   6427.000000   \n",
       "unique           NaN              6060             6053           NaN   \n",
       "top              NaN  10/16/2018 17:04  10/26/2018 8:35           NaN   \n",
       "freq             NaN                 4                3           NaN   \n",
       "mean    2.135519e+07               NaN              NaN     11.778902   \n",
       "std     2.181294e+05               NaN              NaN      9.692236   \n",
       "min     2.098358e+07               NaN              NaN      0.000000   \n",
       "25%     2.116805e+07               NaN              NaN      5.000000   \n",
       "50%     2.135114e+07               NaN              NaN      9.000000   \n",
       "75%     2.154376e+07               NaN              NaN     15.000000   \n",
       "max     2.174223e+07               NaN              NaN     59.000000   \n",
       "\n",
       "             bikeid  tripduration  from_station_id    from_station_name  \\\n",
       "count   6427.000000  6.427000e+03      6427.000000                 6427   \n",
       "unique          NaN           NaN              NaN                  475   \n",
       "top             NaN           NaN              NaN  Canal St & Adams St   \n",
       "freq            NaN           NaN              NaN                  121   \n",
       "mean    3491.637934  1.060471e+03       195.038432                  NaN   \n",
       "std     1912.171846  1.456811e+04       148.170025                  NaN   \n",
       "min        2.000000  6.100000e+01         2.000000                  NaN   \n",
       "25%     1852.000000  3.490000e+02        77.000000                  NaN   \n",
       "50%     3618.000000  5.590000e+02       168.000000                  NaN   \n",
       "75%     5179.500000  9.320000e+02       287.000000                  NaN   \n",
       "max     6470.000000  1.139070e+06       662.000000                  NaN   \n",
       "\n",
       "        to_station_id          to_station_name    usertype gender  \\\n",
       "count     6427.000000                     6427        6427   5938   \n",
       "unique            NaN                      483           2      2   \n",
       "top               NaN  Clinton St & Madison St  Subscriber   Male   \n",
       "freq              NaN                      106        5753   4637   \n",
       "mean       198.502567                      NaN         NaN    NaN   \n",
       "std        148.939873                      NaN         NaN    NaN   \n",
       "min          2.000000                      NaN         NaN    NaN   \n",
       "25%         80.000000                      NaN         NaN    NaN   \n",
       "50%        172.000000                      NaN         NaN    NaN   \n",
       "75%        287.000000                      NaN         NaN    NaN   \n",
       "max        661.000000                      NaN         NaN    NaN   \n",
       "\n",
       "          birthyear   age  \n",
       "count   5956.000000  6427  \n",
       "unique          NaN    63  \n",
       "top             NaN        \n",
       "freq            NaN   471  \n",
       "mean    1982.488583   NaN  \n",
       "std       11.147859   NaN  \n",
       "min     1906.000000   NaN  \n",
       "25%     1977.000000   NaN  \n",
       "50%     1986.000000   NaN  \n",
       "75%     1991.000000   NaN  \n",
       "max     2002.000000   NaN  "
      ]
     },
     "execution_count": 8,
     "metadata": {},
     "output_type": "execute_result"
    }
   ],
   "source": [
    "mobike.describe(include='all')"
   ]
  },
  {
   "cell_type": "markdown",
   "metadata": {},
   "source": [
    "- birthyear存在异常值，可以用age验证\n",
    "- timeduration最小值0有问题"
   ]
  },
  {
   "cell_type": "code",
   "execution_count": 9,
   "metadata": {},
   "outputs": [
    {
     "data": {
      "text/plain": [
       "0"
      ]
     },
     "execution_count": 9,
     "metadata": {},
     "output_type": "execute_result"
    }
   ],
   "source": [
    "sum(mobike.duplicated())"
   ]
  },
  {
   "cell_type": "markdown",
   "metadata": {},
   "source": [
    "# 数据清洗"
   ]
  },
  {
   "cell_type": "code",
   "execution_count": 10,
   "metadata": {},
   "outputs": [
    {
     "data": {
      "text/html": [
       "<div>\n",
       "<style scoped>\n",
       "    .dataframe tbody tr th:only-of-type {\n",
       "        vertical-align: middle;\n",
       "    }\n",
       "\n",
       "    .dataframe tbody tr th {\n",
       "        vertical-align: top;\n",
       "    }\n",
       "\n",
       "    .dataframe thead th {\n",
       "        text-align: right;\n",
       "    }\n",
       "</style>\n",
       "<table border=\"1\" class=\"dataframe\">\n",
       "  <thead>\n",
       "    <tr style=\"text-align: right;\">\n",
       "      <th></th>\n",
       "      <th>user_id</th>\n",
       "      <th>start_time</th>\n",
       "      <th>end_time</th>\n",
       "      <th>timeduration</th>\n",
       "      <th>bikeid</th>\n",
       "      <th>tripduration</th>\n",
       "      <th>from_station_id</th>\n",
       "      <th>from_station_name</th>\n",
       "      <th>to_station_id</th>\n",
       "      <th>to_station_name</th>\n",
       "      <th>usertype</th>\n",
       "      <th>gender</th>\n",
       "      <th>birthyear</th>\n",
       "      <th>age</th>\n",
       "    </tr>\n",
       "  </thead>\n",
       "  <tbody>\n",
       "    <tr>\n",
       "      <th>439283</th>\n",
       "      <td>21499218</td>\n",
       "      <td>11/14/2018 7:37</td>\n",
       "      <td>11/14/2018 7:44</td>\n",
       "      <td>7</td>\n",
       "      <td>2631</td>\n",
       "      <td>436</td>\n",
       "      <td>319</td>\n",
       "      <td>Greenview Ave &amp; Diversey Pkwy</td>\n",
       "      <td>67</td>\n",
       "      <td>Sheffield Ave &amp; Fullerton Ave</td>\n",
       "      <td>Subscriber</td>\n",
       "      <td>Male</td>\n",
       "      <td>1982.0</td>\n",
       "      <td>37</td>\n",
       "    </tr>\n",
       "    <tr>\n",
       "      <th>603317</th>\n",
       "      <td>21694389</td>\n",
       "      <td>12/18/2018 19:02</td>\n",
       "      <td>12/18/2018 19:10</td>\n",
       "      <td>7</td>\n",
       "      <td>1565</td>\n",
       "      <td>445</td>\n",
       "      <td>164</td>\n",
       "      <td>Franklin St &amp; Lake St</td>\n",
       "      <td>195</td>\n",
       "      <td>Columbus Dr &amp; Randolph St</td>\n",
       "      <td>Subscriber</td>\n",
       "      <td>Male</td>\n",
       "      <td>1988.0</td>\n",
       "      <td>31</td>\n",
       "    </tr>\n",
       "    <tr>\n",
       "      <th>109957</th>\n",
       "      <td>21110722</td>\n",
       "      <td>10/9/2018 12:37</td>\n",
       "      <td>10/9/2018 12:55</td>\n",
       "      <td>18</td>\n",
       "      <td>2231</td>\n",
       "      <td>1090</td>\n",
       "      <td>163</td>\n",
       "      <td>Damen Ave &amp; Clybourn Ave</td>\n",
       "      <td>69</td>\n",
       "      <td>Damen Ave &amp; Pierce Ave</td>\n",
       "      <td>Customer</td>\n",
       "      <td>Male</td>\n",
       "      <td>1989.0</td>\n",
       "      <td>30</td>\n",
       "    </tr>\n",
       "    <tr>\n",
       "      <th>428082</th>\n",
       "      <td>21485409</td>\n",
       "      <td>11/12/2018 12:30</td>\n",
       "      <td>11/12/2018 12:40</td>\n",
       "      <td>9</td>\n",
       "      <td>4226</td>\n",
       "      <td>581</td>\n",
       "      <td>226</td>\n",
       "      <td>Racine Ave &amp; Belmont Ave</td>\n",
       "      <td>308</td>\n",
       "      <td>Seeley Ave &amp; Roscoe St</td>\n",
       "      <td>Subscriber</td>\n",
       "      <td>Female</td>\n",
       "      <td>1989.0</td>\n",
       "      <td>30</td>\n",
       "    </tr>\n",
       "    <tr>\n",
       "      <th>395437</th>\n",
       "      <td>21445994</td>\n",
       "      <td>11/7/2018 7:29</td>\n",
       "      <td>11/7/2018 7:35</td>\n",
       "      <td>6</td>\n",
       "      <td>3475</td>\n",
       "      <td>390</td>\n",
       "      <td>77</td>\n",
       "      <td>Clinton St &amp; Madison St</td>\n",
       "      <td>621</td>\n",
       "      <td>Aberdeen St &amp; Randolph St</td>\n",
       "      <td>Subscriber</td>\n",
       "      <td>Male</td>\n",
       "      <td>1979.0</td>\n",
       "      <td>40</td>\n",
       "    </tr>\n",
       "  </tbody>\n",
       "</table>\n",
       "</div>"
      ],
      "text/plain": [
       "         user_id        start_time          end_time  timeduration  bikeid  \\\n",
       "439283  21499218   11/14/2018 7:37   11/14/2018 7:44             7    2631   \n",
       "603317  21694389  12/18/2018 19:02  12/18/2018 19:10             7    1565   \n",
       "109957  21110722   10/9/2018 12:37   10/9/2018 12:55            18    2231   \n",
       "428082  21485409  11/12/2018 12:30  11/12/2018 12:40             9    4226   \n",
       "395437  21445994    11/7/2018 7:29    11/7/2018 7:35             6    3475   \n",
       "\n",
       "        tripduration  from_station_id              from_station_name  \\\n",
       "439283           436              319  Greenview Ave & Diversey Pkwy   \n",
       "603317           445              164          Franklin St & Lake St   \n",
       "109957          1090              163       Damen Ave & Clybourn Ave   \n",
       "428082           581              226       Racine Ave & Belmont Ave   \n",
       "395437           390               77        Clinton St & Madison St   \n",
       "\n",
       "        to_station_id                to_station_name    usertype  gender  \\\n",
       "439283             67  Sheffield Ave & Fullerton Ave  Subscriber    Male   \n",
       "603317            195      Columbus Dr & Randolph St  Subscriber    Male   \n",
       "109957             69         Damen Ave & Pierce Ave    Customer    Male   \n",
       "428082            308         Seeley Ave & Roscoe St  Subscriber  Female   \n",
       "395437            621      Aberdeen St & Randolph St  Subscriber    Male   \n",
       "\n",
       "        birthyear age  \n",
       "439283     1982.0  37  \n",
       "603317     1988.0  31  \n",
       "109957     1989.0  30  \n",
       "428082     1989.0  30  \n",
       "395437     1979.0  40  "
      ]
     },
     "execution_count": 10,
     "metadata": {},
     "output_type": "execute_result"
    }
   ],
   "source": [
    "mobike.head()"
   ]
  },
  {
   "cell_type": "markdown",
   "metadata": {},
   "source": [
    "## user_id"
   ]
  },
  {
   "cell_type": "code",
   "execution_count": 11,
   "metadata": {},
   "outputs": [
    {
     "data": {
      "text/plain": [
       "6427"
      ]
     },
     "execution_count": 11,
     "metadata": {},
     "output_type": "execute_result"
    }
   ],
   "source": [
    "mobike.user_id.nunique()"
   ]
  },
  {
   "cell_type": "markdown",
   "metadata": {},
   "source": [
    "- 数据中不存在重复用户，不需要进行聚类，可直接删除。"
   ]
  },
  {
   "cell_type": "markdown",
   "metadata": {},
   "source": [
    "## start_time& end_time "
   ]
  },
  {
   "cell_type": "markdown",
   "metadata": {},
   "source": [
    "- 因为存在timeduration，所以只需关注start_time，end_time之一，这里选择start_time。"
   ]
  },
  {
   "cell_type": "code",
   "execution_count": 12,
   "metadata": {},
   "outputs": [],
   "source": [
    "#转换变量类别-datetime\n",
    "mobike['start_time']=pd.to_datetime(mobike['start_time'])"
   ]
  },
  {
   "cell_type": "code",
   "execution_count": 13,
   "metadata": {},
   "outputs": [
    {
     "data": {
      "text/plain": [
       "array([2018])"
      ]
     },
     "execution_count": 13,
     "metadata": {},
     "output_type": "execute_result"
    }
   ],
   "source": [
    "mobike['start_time'].dt.year.unique()"
   ]
  },
  {
   "cell_type": "code",
   "execution_count": 14,
   "metadata": {},
   "outputs": [
    {
     "data": {
      "text/plain": [
       "array([11, 12, 10])"
      ]
     },
     "execution_count": 14,
     "metadata": {},
     "output_type": "execute_result"
    }
   ],
   "source": [
    "mobike['start_time'].dt.month.unique()"
   ]
  },
  {
   "cell_type": "code",
   "execution_count": 15,
   "metadata": {},
   "outputs": [],
   "source": [
    "#创建新变量dayofweek 和 start_hour\n",
    "mobike['dayofweek'] = mobike['start_time'].dt.dayofweek\n",
    "mobike['start_hour'] = mobike['start_time'].dt.hour"
   ]
  },
  {
   "cell_type": "markdown",
   "metadata": {},
   "source": [
    "## timeduration "
   ]
  },
  {
   "cell_type": "code",
   "execution_count": 16,
   "metadata": {},
   "outputs": [
    {
     "data": {
      "text/plain": [
       "count    6427.000000\n",
       "mean       11.778902\n",
       "std         9.692236\n",
       "min         0.000000\n",
       "25%         5.000000\n",
       "50%         9.000000\n",
       "75%        15.000000\n",
       "max        59.000000\n",
       "Name: timeduration, dtype: float64"
      ]
     },
     "execution_count": 16,
     "metadata": {},
     "output_type": "execute_result"
    }
   ],
   "source": [
    "mobike['timeduration'].describe()"
   ]
  },
  {
   "cell_type": "markdown",
   "metadata": {},
   "source": [
    "- timeduration为0有些奇怪，可以查看为0数据记录"
   ]
  },
  {
   "cell_type": "code",
   "execution_count": 17,
   "metadata": {},
   "outputs": [
    {
     "data": {
      "text/html": [
       "<div>\n",
       "<style scoped>\n",
       "    .dataframe tbody tr th:only-of-type {\n",
       "        vertical-align: middle;\n",
       "    }\n",
       "\n",
       "    .dataframe tbody tr th {\n",
       "        vertical-align: top;\n",
       "    }\n",
       "\n",
       "    .dataframe thead th {\n",
       "        text-align: right;\n",
       "    }\n",
       "</style>\n",
       "<table border=\"1\" class=\"dataframe\">\n",
       "  <thead>\n",
       "    <tr style=\"text-align: right;\">\n",
       "      <th></th>\n",
       "      <th>user_id</th>\n",
       "      <th>start_time</th>\n",
       "      <th>end_time</th>\n",
       "      <th>timeduration</th>\n",
       "      <th>bikeid</th>\n",
       "      <th>tripduration</th>\n",
       "      <th>from_station_id</th>\n",
       "      <th>from_station_name</th>\n",
       "      <th>to_station_id</th>\n",
       "      <th>to_station_name</th>\n",
       "      <th>usertype</th>\n",
       "      <th>gender</th>\n",
       "      <th>birthyear</th>\n",
       "      <th>age</th>\n",
       "      <th>dayofweek</th>\n",
       "      <th>start_hour</th>\n",
       "    </tr>\n",
       "  </thead>\n",
       "  <tbody>\n",
       "    <tr>\n",
       "      <th>109113</th>\n",
       "      <td>21109759</td>\n",
       "      <td>2018-10-09 11:29:00</td>\n",
       "      <td>10/9/2018 12:29</td>\n",
       "      <td>0</td>\n",
       "      <td>4875</td>\n",
       "      <td>3616</td>\n",
       "      <td>225</td>\n",
       "      <td>Halsted St &amp; Dickens Ave</td>\n",
       "      <td>172</td>\n",
       "      <td>Rush St &amp; Cedar St</td>\n",
       "      <td>Customer</td>\n",
       "      <td>NaN</td>\n",
       "      <td>NaN</td>\n",
       "      <td></td>\n",
       "      <td>1</td>\n",
       "      <td>11</td>\n",
       "    </tr>\n",
       "    <tr>\n",
       "      <th>72232</th>\n",
       "      <td>21067313</td>\n",
       "      <td>2018-10-06 10:15:00</td>\n",
       "      <td>10/6/2018 11:15</td>\n",
       "      <td>0</td>\n",
       "      <td>4733</td>\n",
       "      <td>3606</td>\n",
       "      <td>419</td>\n",
       "      <td>Lake Park Ave &amp; 53rd St</td>\n",
       "      <td>76</td>\n",
       "      <td>Lake Shore Dr &amp; Monroe St</td>\n",
       "      <td>Customer</td>\n",
       "      <td>NaN</td>\n",
       "      <td>NaN</td>\n",
       "      <td></td>\n",
       "      <td>5</td>\n",
       "      <td>10</td>\n",
       "    </tr>\n",
       "    <tr>\n",
       "      <th>69595</th>\n",
       "      <td>21064115</td>\n",
       "      <td>2018-10-05 18:27:00</td>\n",
       "      <td>10/5/2018 19:28</td>\n",
       "      <td>0</td>\n",
       "      <td>2064</td>\n",
       "      <td>3650</td>\n",
       "      <td>50</td>\n",
       "      <td>Clark St &amp; Congress Pkwy</td>\n",
       "      <td>283</td>\n",
       "      <td>LaSalle St &amp; Jackson Blvd</td>\n",
       "      <td>Customer</td>\n",
       "      <td>Male</td>\n",
       "      <td>1989.0</td>\n",
       "      <td>30</td>\n",
       "      <td>4</td>\n",
       "      <td>18</td>\n",
       "    </tr>\n",
       "    <tr>\n",
       "      <th>302629</th>\n",
       "      <td>21336986</td>\n",
       "      <td>2018-10-27 15:33:00</td>\n",
       "      <td>10/27/2018 16:34</td>\n",
       "      <td>0</td>\n",
       "      <td>5051</td>\n",
       "      <td>3634</td>\n",
       "      <td>3</td>\n",
       "      <td>Shedd Aquarium</td>\n",
       "      <td>199</td>\n",
       "      <td>Wabash Ave &amp; Grand Ave</td>\n",
       "      <td>Customer</td>\n",
       "      <td>NaN</td>\n",
       "      <td>NaN</td>\n",
       "      <td></td>\n",
       "      <td>5</td>\n",
       "      <td>15</td>\n",
       "    </tr>\n",
       "    <tr>\n",
       "      <th>592619</th>\n",
       "      <td>21681993</td>\n",
       "      <td>2018-12-17 09:17:00</td>\n",
       "      <td>12/17/2018 10:18</td>\n",
       "      <td>0</td>\n",
       "      <td>4316</td>\n",
       "      <td>3652</td>\n",
       "      <td>99</td>\n",
       "      <td>Lake Shore Dr &amp; Ohio St</td>\n",
       "      <td>96</td>\n",
       "      <td>Desplaines St &amp; Randolph St</td>\n",
       "      <td>Subscriber</td>\n",
       "      <td>Male</td>\n",
       "      <td>1988.0</td>\n",
       "      <td>31</td>\n",
       "      <td>0</td>\n",
       "      <td>9</td>\n",
       "    </tr>\n",
       "  </tbody>\n",
       "</table>\n",
       "</div>"
      ],
      "text/plain": [
       "         user_id          start_time          end_time  timeduration  bikeid  \\\n",
       "109113  21109759 2018-10-09 11:29:00   10/9/2018 12:29             0    4875   \n",
       "72232   21067313 2018-10-06 10:15:00   10/6/2018 11:15             0    4733   \n",
       "69595   21064115 2018-10-05 18:27:00   10/5/2018 19:28             0    2064   \n",
       "302629  21336986 2018-10-27 15:33:00  10/27/2018 16:34             0    5051   \n",
       "592619  21681993 2018-12-17 09:17:00  12/17/2018 10:18             0    4316   \n",
       "\n",
       "        tripduration  from_station_id         from_station_name  \\\n",
       "109113          3616              225  Halsted St & Dickens Ave   \n",
       "72232           3606              419   Lake Park Ave & 53rd St   \n",
       "69595           3650               50  Clark St & Congress Pkwy   \n",
       "302629          3634                3            Shedd Aquarium   \n",
       "592619          3652               99   Lake Shore Dr & Ohio St   \n",
       "\n",
       "        to_station_id              to_station_name    usertype gender  \\\n",
       "109113            172           Rush St & Cedar St    Customer    NaN   \n",
       "72232              76    Lake Shore Dr & Monroe St    Customer    NaN   \n",
       "69595             283    LaSalle St & Jackson Blvd    Customer   Male   \n",
       "302629            199       Wabash Ave & Grand Ave    Customer    NaN   \n",
       "592619             96  Desplaines St & Randolph St  Subscriber   Male   \n",
       "\n",
       "        birthyear age  dayofweek  start_hour  \n",
       "109113        NaN              1          11  \n",
       "72232         NaN              5          10  \n",
       "69595      1989.0  30          4          18  \n",
       "302629        NaN              5          15  \n",
       "592619     1988.0  31          0           9  "
      ]
     },
     "execution_count": 17,
     "metadata": {},
     "output_type": "execute_result"
    }
   ],
   "source": [
    "mobike[mobike['timeduration']<1]"
   ]
  },
  {
   "cell_type": "markdown",
   "metadata": {},
   "source": [
    "- timeduration为0部分通过start_time&end_time验证，发现0应为60"
   ]
  },
  {
   "cell_type": "code",
   "execution_count": 18,
   "metadata": {},
   "outputs": [
    {
     "data": {
      "text/plain": [
       "count    6427.000000\n",
       "mean       11.825580\n",
       "std         9.779498\n",
       "min         1.000000\n",
       "25%         5.000000\n",
       "50%         9.000000\n",
       "75%        15.000000\n",
       "max        60.000000\n",
       "Name: timeduration, dtype: float64"
      ]
     },
     "execution_count": 18,
     "metadata": {},
     "output_type": "execute_result"
    }
   ],
   "source": [
    "#0改为60\n",
    "mobike['timeduration'] = mobike['timeduration'].replace(0,60)\n",
    "mobike['timeduration'].describe()"
   ]
  },
  {
   "cell_type": "markdown",
   "metadata": {},
   "source": [
    "## bikeid "
   ]
  },
  {
   "cell_type": "markdown",
   "metadata": {},
   "source": [
    "- 因为关注的是用户，所以bikeid无用，可直接drop"
   ]
  },
  {
   "cell_type": "markdown",
   "metadata": {},
   "source": [
    "## tripduration "
   ]
  },
  {
   "cell_type": "code",
   "execution_count": 19,
   "metadata": {},
   "outputs": [
    {
     "data": {
      "image/png": "[encoded data removed]",
      "text/plain": [
       "<Figure size 432x288 with 1 Axes>"
      ]
     },
     "metadata": {
      "needs_background": "light"
     },
     "output_type": "display_data"
    }
   ],
   "source": [
    "mobike['tripduration'].plot(kind='box');"
   ]
  },
  {
   "cell_type": "markdown",
   "metadata": {},
   "source": [
    "- tripduration寻在异常值"
   ]
  },
  {
   "cell_type": "markdown",
   "metadata": {},
   "source": [
    "## station相关"
   ]
  },
  {
   "cell_type": "markdown",
   "metadata": {},
   "source": [
    "- 此处关注的是user，可删除station相关"
   ]
  },
  {
   "cell_type": "markdown",
   "metadata": {},
   "source": [
    "## usertype "
   ]
  },
  {
   "cell_type": "code",
   "execution_count": 20,
   "metadata": {},
   "outputs": [
    {
     "data": {
      "text/plain": [
       "array(['Subscriber', 'Customer'], dtype=object)"
      ]
     },
     "execution_count": 20,
     "metadata": {},
     "output_type": "execute_result"
    }
   ],
   "source": [
    "#查看usertype类别\n",
    "mobike.usertype.unique()"
   ]
  },
  {
   "cell_type": "markdown",
   "metadata": {},
   "source": [
    "## gender "
   ]
  },
  {
   "cell_type": "code",
   "execution_count": 21,
   "metadata": {},
   "outputs": [
    {
     "data": {
      "text/plain": [
       "array(['Male', 'Female', nan], dtype=object)"
      ]
     },
     "execution_count": 21,
     "metadata": {},
     "output_type": "execute_result"
    }
   ],
   "source": [
    "#查看gender类别\n",
    "mobike.gender.unique()"
   ]
  },
  {
   "cell_type": "markdown",
   "metadata": {},
   "source": [
    "- 缺失值不多，看下同样缺失的birthyear之后考虑是否删除"
   ]
  },
  {
   "cell_type": "markdown",
   "metadata": {},
   "source": [
    "## birthyear & age "
   ]
  },
  {
   "cell_type": "markdown",
   "metadata": {},
   "source": [
    "- birthyear存在缺失值和异常值，age数据类型错误，而这表示信息相当，可以删除birthyear"
   ]
  },
  {
   "cell_type": "code",
   "execution_count": 22,
   "metadata": {},
   "outputs": [],
   "source": [
    "#mobike.age.astype(int)\n",
    "#报错age有‘ ’"
   ]
  },
  {
   "cell_type": "code",
   "execution_count": 23,
   "metadata": {},
   "outputs": [
    {
     "data": {
      "text/plain": [
       "array(['37', '31', '30', '40', '25', '48', ' ', '28', '27', '34', '33',\n",
       "       '26', '20', '23', '55', '22', '54', '52', '57', '29', '39', '51',\n",
       "       '32', '49', '43', '58', '42', '61', '35', '41', '63', '50', '38',\n",
       "       '36', '44', '62', '19', '59', '45', '46', '56', '21', '24', '47',\n",
       "       '66', '64', '77', '69', '60', '68', '70', '53', '113', '73', '18',\n",
       "       '67', '65', '71', '79', '17', '101', '74', '72'], dtype=object)"
      ]
     },
     "execution_count": 23,
     "metadata": {},
     "output_type": "execute_result"
    }
   ],
   "source": [
    "#查看age种类\n",
    "mobike.age.unique()"
   ]
  },
  {
   "cell_type": "code",
   "execution_count": 24,
   "metadata": {},
   "outputs": [
    {
     "data": {
      "text/plain": [
       "array([nan])"
      ]
     },
     "execution_count": 24,
     "metadata": {},
     "output_type": "execute_result"
    }
   ],
   "source": [
    "#查看age为‘ ’时birthyear\n",
    "mobike[mobike.age == ' ']['birthyear'].unique()"
   ]
  },
  {
   "cell_type": "code",
   "execution_count": 25,
   "metadata": {},
   "outputs": [
    {
     "data": {
      "text/plain": [
       "array([' '], dtype=object)"
      ]
     },
     "execution_count": 25,
     "metadata": {},
     "output_type": "execute_result"
    }
   ],
   "source": [
    "#查看birthyear isna时age\n",
    "mobike[mobike.birthyear.isna()]['age'].unique()"
   ]
  },
  {
   "cell_type": "code",
   "execution_count": 26,
   "metadata": {},
   "outputs": [
    {
     "data": {
      "text/plain": [
       "True"
      ]
     },
     "execution_count": 26,
     "metadata": {},
     "output_type": "execute_result"
    }
   ],
   "source": [
    "#确认age‘ ’和birthyear isna的位置是否完全一致\n",
    "(mobike[mobike.age == ' '].index == mobike[mobike.birthyear.isna()].index).all()"
   ]
  },
  {
   "cell_type": "code",
   "execution_count": 27,
   "metadata": {},
   "outputs": [
    {
     "data": {
      "image/png": "[encoded data removed]",
      "text/plain": [
       "<Figure size 432x288 with 1 Axes>"
      ]
     },
     "metadata": {
      "needs_background": "light"
     },
     "output_type": "display_data"
    }
   ],
   "source": [
    "#剔除空格后的age分布\n",
    "mobike[mobike['age']!=' ']['age'].astype(int).plot(kind='hist');"
   ]
  },
  {
   "cell_type": "code",
   "execution_count": 28,
   "metadata": {},
   "outputs": [
    {
     "data": {
      "image/png": "[encoded data removed]",
      "text/plain": [
       "<Figure size 432x288 with 1 Axes>"
      ]
     },
     "metadata": {
      "needs_background": "light"
     },
     "output_type": "display_data"
    }
   ],
   "source": [
    "mobike[mobike['age']!=' ']['age'].astype(int).plot(kind='box');"
   ]
  },
  {
   "cell_type": "markdown",
   "metadata": {},
   "source": [
    "- age有大量异常值存在"
   ]
  },
  {
   "cell_type": "code",
   "execution_count": 29,
   "metadata": {},
   "outputs": [],
   "source": [
    "#寻找age中位数\n",
    "age_median=int(mobike[mobike['age']!=' ']['age'].astype(int).median())"
   ]
  },
  {
   "cell_type": "code",
   "execution_count": 30,
   "metadata": {},
   "outputs": [],
   "source": [
    "#将age空格填充为中位数\n",
    "mobike['age'] = mobike.age.str.replace(' ',str(age_median)).astype(int)"
   ]
  },
  {
   "cell_type": "code",
   "execution_count": 31,
   "metadata": {},
   "outputs": [],
   "source": [
    "#删除缺失值\n",
    "mobike.dropna(inplace=True)"
   ]
  },
  {
   "cell_type": "markdown",
   "metadata": {},
   "source": [
    "## 删除无关变量 "
   ]
  },
  {
   "cell_type": "code",
   "execution_count": 32,
   "metadata": {},
   "outputs": [],
   "source": [
    "useless_features = ['user_id','start_time','end_time','bikeid','from_station_name','to_station_name',\n",
    "                    'from_station_id','to_station_id','birthyear']\n",
    "mobike = mobike.drop(useless_features,axis=1)"
   ]
  },
  {
   "cell_type": "markdown",
   "metadata": {},
   "source": [
    "## 异常值处理 "
   ]
  },
  {
   "cell_type": "code",
   "execution_count": 33,
   "metadata": {},
   "outputs": [
    {
     "data": {
      "text/plain": [
       "1634.125"
      ]
     },
     "execution_count": 33,
     "metadata": {},
     "output_type": "execute_result"
    }
   ],
   "source": [
    "#tripduration异常值处理\n",
    "IQR = mobike.tripduration.describe()['75%'] - mobike.tripduration.describe()['25%']\n",
    "new_max_tripduration = mobike.tripduration.describe()['75%'] + 1.5*IQR\n",
    "new_max_tripduration"
   ]
  },
  {
   "cell_type": "code",
   "execution_count": 34,
   "metadata": {},
   "outputs": [],
   "source": [
    "mobike = mobike[mobike['tripduration']<=new_max_tripduration]"
   ]
  },
  {
   "cell_type": "code",
   "execution_count": 35,
   "metadata": {},
   "outputs": [
    {
     "data": {
      "text/plain": [
       "63.0"
      ]
     },
     "execution_count": 35,
     "metadata": {},
     "output_type": "execute_result"
    }
   ],
   "source": [
    "#age异常值处理\n",
    "IQR = mobike.age.describe()['75%'] - mobike.age.describe()['25%']\n",
    "new_max_age = mobike.age.describe()['75%'] + 1.5*IQR\n",
    "new_max_age"
   ]
  },
  {
   "cell_type": "code",
   "execution_count": 36,
   "metadata": {},
   "outputs": [],
   "source": [
    "mobike = mobike[mobike['age']<=new_max_age]"
   ]
  },
  {
   "cell_type": "markdown",
   "metadata": {},
   "source": [
    "# EDA"
   ]
  },
  {
   "cell_type": "markdown",
   "metadata": {},
   "source": [
    "## 单变量 "
   ]
  },
  {
   "cell_type": "code",
   "execution_count": 37,
   "metadata": {},
   "outputs": [
    {
     "data": {
      "text/html": [
       "<div>\n",
       "<style scoped>\n",
       "    .dataframe tbody tr th:only-of-type {\n",
       "        vertical-align: middle;\n",
       "    }\n",
       "\n",
       "    .dataframe tbody tr th {\n",
       "        vertical-align: top;\n",
       "    }\n",
       "\n",
       "    .dataframe thead th {\n",
       "        text-align: right;\n",
       "    }\n",
       "</style>\n",
       "<table border=\"1\" class=\"dataframe\">\n",
       "  <thead>\n",
       "    <tr style=\"text-align: right;\">\n",
       "      <th></th>\n",
       "      <th>timeduration</th>\n",
       "      <th>tripduration</th>\n",
       "      <th>usertype</th>\n",
       "      <th>gender</th>\n",
       "      <th>age</th>\n",
       "      <th>dayofweek</th>\n",
       "      <th>start_hour</th>\n",
       "    </tr>\n",
       "  </thead>\n",
       "  <tbody>\n",
       "    <tr>\n",
       "      <th>439283</th>\n",
       "      <td>7</td>\n",
       "      <td>436</td>\n",
       "      <td>Subscriber</td>\n",
       "      <td>Male</td>\n",
       "      <td>37</td>\n",
       "      <td>2</td>\n",
       "      <td>7</td>\n",
       "    </tr>\n",
       "    <tr>\n",
       "      <th>603317</th>\n",
       "      <td>7</td>\n",
       "      <td>445</td>\n",
       "      <td>Subscriber</td>\n",
       "      <td>Male</td>\n",
       "      <td>31</td>\n",
       "      <td>1</td>\n",
       "      <td>19</td>\n",
       "    </tr>\n",
       "    <tr>\n",
       "      <th>109957</th>\n",
       "      <td>18</td>\n",
       "      <td>1090</td>\n",
       "      <td>Customer</td>\n",
       "      <td>Male</td>\n",
       "      <td>30</td>\n",
       "      <td>1</td>\n",
       "      <td>12</td>\n",
       "    </tr>\n",
       "    <tr>\n",
       "      <th>428082</th>\n",
       "      <td>9</td>\n",
       "      <td>581</td>\n",
       "      <td>Subscriber</td>\n",
       "      <td>Female</td>\n",
       "      <td>30</td>\n",
       "      <td>0</td>\n",
       "      <td>12</td>\n",
       "    </tr>\n",
       "    <tr>\n",
       "      <th>395437</th>\n",
       "      <td>6</td>\n",
       "      <td>390</td>\n",
       "      <td>Subscriber</td>\n",
       "      <td>Male</td>\n",
       "      <td>40</td>\n",
       "      <td>2</td>\n",
       "      <td>7</td>\n",
       "    </tr>\n",
       "  </tbody>\n",
       "</table>\n",
       "</div>"
      ],
      "text/plain": [
       "        timeduration  tripduration    usertype  gender  age  dayofweek  \\\n",
       "439283             7           436  Subscriber    Male   37          2   \n",
       "603317             7           445  Subscriber    Male   31          1   \n",
       "109957            18          1090    Customer    Male   30          1   \n",
       "428082             9           581  Subscriber  Female   30          0   \n",
       "395437             6           390  Subscriber    Male   40          2   \n",
       "\n",
       "        start_hour  \n",
       "439283           7  \n",
       "603317          19  \n",
       "109957          12  \n",
       "428082          12  \n",
       "395437           7  "
      ]
     },
     "execution_count": 37,
     "metadata": {},
     "output_type": "execute_result"
    }
   ],
   "source": [
    "mobike.head()"
   ]
  },
  {
   "cell_type": "markdown",
   "metadata": {},
   "source": [
    "### timeduration "
   ]
  },
  {
   "cell_type": "code",
   "execution_count": 38,
   "metadata": {},
   "outputs": [
    {
     "data": {
      "text/plain": [
       "count    5457.000000\n",
       "mean        9.281107\n",
       "std         5.678630\n",
       "min         1.000000\n",
       "25%         5.000000\n",
       "50%         8.000000\n",
       "75%        12.000000\n",
       "max        27.000000\n",
       "Name: timeduration, dtype: float64"
      ]
     },
     "execution_count": 38,
     "metadata": {},
     "output_type": "execute_result"
    }
   ],
   "source": [
    "mobike['timeduration'].describe()"
   ]
  },
  {
   "cell_type": "code",
   "execution_count": 39,
   "metadata": {},
   "outputs": [
    {
     "data": {
      "image/png": "[encoded data removed]",
      "text/plain": [
       "<Figure size 432x288 with 1 Axes>"
      ]
     },
     "metadata": {
      "needs_background": "light"
     },
     "output_type": "display_data"
    }
   ],
   "source": [
    "mobike['timeduration'].plot(kind='hist');"
   ]
  },
  {
   "cell_type": "code",
   "execution_count": 40,
   "metadata": {},
   "outputs": [
    {
     "data": {
      "image/png": "[encoded data removed]",
      "text/plain": [
       "<Figure size 432x288 with 1 Axes>"
      ]
     },
     "metadata": {
      "needs_background": "light"
     },
     "output_type": "display_data"
    }
   ],
   "source": [
    "mobike['timeduration'].plot(kind='box');"
   ]
  },
  {
   "cell_type": "code",
   "execution_count": 41,
   "metadata": {},
   "outputs": [],
   "source": [
    "#timeduration异常值处理\n",
    "#IQR = mobike.timeduration.describe()['75%'] - mobike.timeduration.describe()['25%']\n",
    "#new_max_timeduration = mobike.timeduration.describe()['75%'] + 1.5*IQR\n",
    "#new_max_timeduration\n",
    "#mobike = mobike[mobike['timeduration']<=new_max_timeduration]"
   ]
  },
  {
   "cell_type": "markdown",
   "metadata": {},
   "source": [
    "### tripduration"
   ]
  },
  {
   "cell_type": "code",
   "execution_count": 42,
   "metadata": {},
   "outputs": [
    {
     "data": {
      "text/plain": [
       "count    5457.000000\n",
       "mean      586.365952\n",
       "std       340.638932\n",
       "min        61.000000\n",
       "25%       325.000000\n",
       "50%       500.000000\n",
       "75%       776.000000\n",
       "max      1633.000000\n",
       "Name: tripduration, dtype: float64"
      ]
     },
     "execution_count": 42,
     "metadata": {},
     "output_type": "execute_result"
    }
   ],
   "source": [
    "mobike['tripduration'].describe()"
   ]
  },
  {
   "cell_type": "code",
   "execution_count": 43,
   "metadata": {},
   "outputs": [
    {
     "data": {
      "image/png": "[encoded data removed]",
      "text/plain": [
       "<Figure size 432x288 with 1 Axes>"
      ]
     },
     "metadata": {
      "needs_background": "light"
     },
     "output_type": "display_data"
    }
   ],
   "source": [
    "mobike['tripduration'].plot(kind='hist');"
   ]
  },
  {
   "cell_type": "markdown",
   "metadata": {},
   "source": [
    "### usertype"
   ]
  },
  {
   "cell_type": "code",
   "execution_count": 44,
   "metadata": {},
   "outputs": [
    {
     "data": {
      "image/png": "[encoded data removed]",
      "text/plain": [
       "<Figure size 432x288 with 1 Axes>"
      ]
     },
     "metadata": {},
     "output_type": "display_data"
    }
   ],
   "source": [
    "mobike['usertype'].value_counts().plot(kind='pie',autopct='%1.1f%%');"
   ]
  },
  {
   "cell_type": "markdown",
   "metadata": {},
   "source": [
    "### gender"
   ]
  },
  {
   "cell_type": "code",
   "execution_count": 45,
   "metadata": {},
   "outputs": [
    {
     "data": {
      "image/png": "[encoded data removed]",
      "text/plain": [
       "<Figure size 432x288 with 1 Axes>"
      ]
     },
     "metadata": {},
     "output_type": "display_data"
    }
   ],
   "source": [
    "mobike['gender'].value_counts().plot(kind='pie',autopct='%1.1f%%');"
   ]
  },
  {
   "cell_type": "markdown",
   "metadata": {},
   "source": [
    "### age"
   ]
  },
  {
   "cell_type": "code",
   "execution_count": 46,
   "metadata": {},
   "outputs": [
    {
     "data": {
      "text/plain": [
       "count    5457.000000\n",
       "mean       35.843321\n",
       "std        10.235023\n",
       "min        17.000000\n",
       "25%        28.000000\n",
       "50%        33.000000\n",
       "75%        41.000000\n",
       "max        63.000000\n",
       "Name: age, dtype: float64"
      ]
     },
     "execution_count": 46,
     "metadata": {},
     "output_type": "execute_result"
    }
   ],
   "source": [
    "mobike['age'].describe()"
   ]
  },
  {
   "cell_type": "code",
   "execution_count": 47,
   "metadata": {},
   "outputs": [
    {
     "data": {
      "image/png": "[encoded data removed]",
      "text/plain": [
       "<Figure size 432x288 with 1 Axes>"
      ]
     },
     "metadata": {
      "needs_background": "light"
     },
     "output_type": "display_data"
    }
   ],
   "source": [
    "mobike['age'].plot(kind='hist');"
   ]
  },
  {
   "cell_type": "markdown",
   "metadata": {},
   "source": [
    "### dayofweek"
   ]
  },
  {
   "cell_type": "code",
   "execution_count": 48,
   "metadata": {},
   "outputs": [
    {
     "data": {
      "text/plain": [
       "1    1010\n",
       "2     987\n",
       "3     916\n",
       "0     911\n",
       "4     802\n",
       "5     451\n",
       "6     380\n",
       "Name: dayofweek, dtype: int64"
      ]
     },
     "execution_count": 48,
     "metadata": {},
     "output_type": "execute_result"
    }
   ],
   "source": [
    "mobike['dayofweek'].value_counts()"
   ]
  },
  {
   "cell_type": "code",
   "execution_count": 49,
   "metadata": {
    "scrolled": true
   },
   "outputs": [
    {
     "data": {
      "image/png": "[encoded data removed]",
      "text/plain": [
       "<Figure size 432x288 with 1 Axes>"
      ]
     },
     "metadata": {
      "needs_background": "light"
     },
     "output_type": "display_data"
    }
   ],
   "source": [
    "mobike['dayofweek'].value_counts().sort_index().plot(kind='bar');"
   ]
  },
  {
   "cell_type": "markdown",
   "metadata": {},
   "source": [
    "### start_hour"
   ]
  },
  {
   "cell_type": "code",
   "execution_count": 50,
   "metadata": {},
   "outputs": [
    {
     "data": {
      "text/plain": [
       "count    5457.000000\n",
       "mean       13.207440\n",
       "std         4.787171\n",
       "min         0.000000\n",
       "25%         8.000000\n",
       "50%        14.000000\n",
       "75%        17.000000\n",
       "max        23.000000\n",
       "Name: start_hour, dtype: float64"
      ]
     },
     "execution_count": 50,
     "metadata": {},
     "output_type": "execute_result"
    }
   ],
   "source": [
    "mobike.start_hour.describe()"
   ]
  },
  {
   "cell_type": "code",
   "execution_count": 51,
   "metadata": {},
   "outputs": [
    {
     "data": {
      "text/plain": [
       "<matplotlib.axes._subplots.AxesSubplot at 0x7fb454461350>"
      ]
     },
     "execution_count": 51,
     "metadata": {},
     "output_type": "execute_result"
    },
    {
     "data": {
      "image/png": "[encoded data removed]",
      "text/plain": [
       "<Figure size 432x288 with 1 Axes>"
      ]
     },
     "metadata": {
      "needs_background": "light"
     },
     "output_type": "display_data"
    }
   ],
   "source": [
    "mobike.start_hour.plot(kind='hist')"
   ]
  },
  {
   "cell_type": "code",
   "execution_count": 52,
   "metadata": {},
   "outputs": [
    {
     "data": {
      "text/plain": [
       "工作时间    0.319956\n",
       "晚高峰     0.306395\n",
       "早高峰     0.228697\n",
       "夜间      0.118014\n",
       "凌晨      0.026938\n",
       "Name: time_period, dtype: float64"
      ]
     },
     "execution_count": 52,
     "metadata": {},
     "output_type": "execute_result"
    }
   ],
   "source": [
    "#start_hour分箱\n",
    "bins=[0,6,9,16,19,24]\n",
    "labels=['凌晨','早高峰','工作时间','晚高峰','夜间']\n",
    "mobike['time_period']=pd.cut(mobike.start_hour,bins,right=False,labels=labels)\n",
    "mobike['time_period'].value_counts(1)"
   ]
  },
  {
   "cell_type": "code",
   "execution_count": 53,
   "metadata": {},
   "outputs": [
    {
     "data": {
      "image/png": "[encoded data removed]",
      "text/plain": [
       "<Figure size 432x288 with 1 Axes>"
      ]
     },
     "metadata": {
      "needs_background": "light"
     },
     "output_type": "display_data"
    }
   ],
   "source": [
    "mobike['time_period'].value_counts(1).plot(kind='bar');"
   ]
  },
  {
   "cell_type": "markdown",
   "metadata": {},
   "source": [
    "- 晚高峰 和 早高峰 选择骑行人数最多"
   ]
  },
  {
   "cell_type": "code",
   "execution_count": 54,
   "metadata": {},
   "outputs": [],
   "source": [
    "#可以删除start_hour变量，留取time_period\n",
    "mobike.drop('start_hour',axis=1,inplace=True)"
   ]
  },
  {
   "cell_type": "markdown",
   "metadata": {},
   "source": [
    "## 多变量"
   ]
  },
  {
   "cell_type": "markdown",
   "metadata": {},
   "source": [
    "### 数值变量&数值变量"
   ]
  },
  {
   "cell_type": "code",
   "execution_count": 55,
   "metadata": {},
   "outputs": [
    {
     "data": {
      "image/png": "[encoded data removed]",
      "text/plain": [
       "<Figure size 432x288 with 1 Axes>"
      ]
     },
     "metadata": {
      "needs_background": "light"
     },
     "output_type": "display_data"
    }
   ],
   "source": [
    "sns.scatterplot(x='tripduration',y='timeduration',data=mobike);"
   ]
  },
  {
   "cell_type": "markdown",
   "metadata": {},
   "source": [
    "- tripduration & timeduration 正相关，之后变量分析可选其中之一"
   ]
  },
  {
   "cell_type": "code",
   "execution_count": 56,
   "metadata": {},
   "outputs": [
    {
     "data": {
      "image/png": "[encoded data removed]",
      "text/plain": [
       "<Figure size 432x288 with 1 Axes>"
      ]
     },
     "metadata": {
      "needs_background": "light"
     },
     "output_type": "display_data"
    }
   ],
   "source": [
    "sns.scatterplot(x='tripduration',y='age',data=mobike);"
   ]
  },
  {
   "cell_type": "code",
   "execution_count": 57,
   "metadata": {},
   "outputs": [
    {
     "name": "stdout",
     "output_type": "stream",
     "text": [
      "<class 'pandas.core.frame.DataFrame'>\n",
      "Int64Index: 5457 entries, 439283 to 278179\n",
      "Data columns (total 7 columns):\n",
      " #   Column        Non-Null Count  Dtype   \n",
      "---  ------        --------------  -----   \n",
      " 0   timeduration  5457 non-null   int64   \n",
      " 1   tripduration  5457 non-null   int64   \n",
      " 2   usertype      5457 non-null   object  \n",
      " 3   gender        5457 non-null   object  \n",
      " 4   age           5457 non-null   int64   \n",
      " 5   dayofweek     5457 non-null   int64   \n",
      " 6   time_period   5457 non-null   category\n",
      "dtypes: category(1), int64(4), object(2)\n",
      "memory usage: 304.0+ KB\n"
     ]
    }
   ],
   "source": [
    "mobike.info()"
   ]
  },
  {
   "cell_type": "markdown",
   "metadata": {},
   "source": [
    "### 类别变量&数值变量"
   ]
  },
  {
   "cell_type": "code",
   "execution_count": 58,
   "metadata": {},
   "outputs": [
    {
     "data": {
      "image/png": "[encoded data removed]",
      "text/plain": [
       "<Figure size 432x288 with 1 Axes>"
      ]
     },
     "metadata": {
      "needs_background": "light"
     },
     "output_type": "display_data"
    }
   ],
   "source": [
    "sns.barplot(x='gender',y='tripduration',estimator=sum,data=mobike);"
   ]
  },
  {
   "cell_type": "code",
   "execution_count": 59,
   "metadata": {},
   "outputs": [
    {
     "data": {
      "image/png": "[encoded data removed]",
      "text/plain": [
       "<Figure size 432x288 with 1 Axes>"
      ]
     },
     "metadata": {
      "needs_background": "light"
     },
     "output_type": "display_data"
    }
   ],
   "source": [
    "sns.barplot(x='usertype',y='tripduration',estimator=sum,data=mobike);"
   ]
  },
  {
   "cell_type": "code",
   "execution_count": 60,
   "metadata": {},
   "outputs": [
    {
     "data": {
      "image/png": "[encoded data removed]",
      "text/plain": [
       "<Figure size 432x288 with 1 Axes>"
      ]
     },
     "metadata": {
      "needs_background": "light"
     },
     "output_type": "display_data"
    }
   ],
   "source": [
    "sns.barplot(x='dayofweek',y='tripduration',estimator=sum,data=mobike);"
   ]
  },
  {
   "cell_type": "code",
   "execution_count": 61,
   "metadata": {},
   "outputs": [
    {
     "data": {
      "image/png": "[encoded data removed]",
      "text/plain": [
       "<Figure size 432x288 with 1 Axes>"
      ]
     },
     "metadata": {
      "needs_background": "light"
     },
     "output_type": "display_data"
    }
   ],
   "source": [
    "sns.barplot(x='time_period',y='tripduration',estimator=sum,data=mobike);"
   ]
  },
  {
   "cell_type": "markdown",
   "metadata": {},
   "source": [
    "- 男性骑行总路程远大于女性和unknown\n",
    "- 订阅者骑行总路程远高于普通用户\n",
    "- 周一至周五（工作日）骑行总路程远高于周末\n",
    "- 早晚高峰骑行总路程远高于其他时段"
   ]
  },
  {
   "cell_type": "markdown",
   "metadata": {},
   "source": [
    "### 类别变量&类别变量"
   ]
  },
  {
   "cell_type": "code",
   "execution_count": 62,
   "metadata": {},
   "outputs": [
    {
     "data": {
      "image/png": "[encoded data removed]",
      "text/plain": [
       "<Figure size 432x288 with 1 Axes>"
      ]
     },
     "metadata": {
      "needs_background": "light"
     },
     "output_type": "display_data"
    }
   ],
   "source": [
    "tmp = pd.DataFrame(mobike.groupby(['dayofweek','gender'])['usertype'].count()).reset_index()\n",
    "tmp = tmp.rename(columns={'usertype':'count'})\n",
    "sns.barplot(x='dayofweek',y='count',hue='gender',data=tmp);"
   ]
  },
  {
   "cell_type": "markdown",
   "metadata": {},
   "source": [
    "- Unknown在周末骑行人数较周内多\n",
    "- female & male 在周内骑行人数较周末多"
   ]
  },
  {
   "cell_type": "code",
   "execution_count": 63,
   "metadata": {},
   "outputs": [
    {
     "data": {
      "image/png": "[encoded data removed]",
      "text/plain": [
       "<Figure size 432x288 with 1 Axes>"
      ]
     },
     "metadata": {
      "needs_background": "light"
     },
     "output_type": "display_data"
    }
   ],
   "source": [
    "tmp = pd.DataFrame(mobike.groupby(['time_period','usertype'])['gender'].count()).reset_index()\n",
    "tmp = tmp.rename(columns={'gender':'count'})\n",
    "sns.barplot(x='time_period',y='count',hue='usertype',data=tmp);"
   ]
  },
  {
   "cell_type": "markdown",
   "metadata": {},
   "source": [
    "- 订阅用户在早晚高峰时段出行最多，说明他们应该有固定时间的出行需求，所以才会订阅。\n",
    "- 普通用户在不同时段出行差别不是很大，说明他们出行需求没有固定时间。"
   ]
  },
  {
   "cell_type": "markdown",
   "metadata": {},
   "source": [
    "# 建模"
   ]
  },
  {
   "cell_type": "code",
   "execution_count": 64,
   "metadata": {},
   "outputs": [],
   "source": [
    "from sklearn.cluster import KMeans\n",
    "from sklearn.metrics import silhouette_score"
   ]
  },
  {
   "cell_type": "code",
   "execution_count": 65,
   "metadata": {},
   "outputs": [
    {
     "data": {
      "text/html": [
       "<div>\n",
       "<style scoped>\n",
       "    .dataframe tbody tr th:only-of-type {\n",
       "        vertical-align: middle;\n",
       "    }\n",
       "\n",
       "    .dataframe tbody tr th {\n",
       "        vertical-align: top;\n",
       "    }\n",
       "\n",
       "    .dataframe thead th {\n",
       "        text-align: right;\n",
       "    }\n",
       "</style>\n",
       "<table border=\"1\" class=\"dataframe\">\n",
       "  <thead>\n",
       "    <tr style=\"text-align: right;\">\n",
       "      <th></th>\n",
       "      <th>timeduration</th>\n",
       "      <th>tripduration</th>\n",
       "      <th>usertype</th>\n",
       "      <th>gender</th>\n",
       "      <th>age</th>\n",
       "      <th>dayofweek</th>\n",
       "      <th>time_period</th>\n",
       "    </tr>\n",
       "  </thead>\n",
       "  <tbody>\n",
       "    <tr>\n",
       "      <th>439283</th>\n",
       "      <td>7</td>\n",
       "      <td>436</td>\n",
       "      <td>Subscriber</td>\n",
       "      <td>Male</td>\n",
       "      <td>37</td>\n",
       "      <td>2</td>\n",
       "      <td>早高峰</td>\n",
       "    </tr>\n",
       "    <tr>\n",
       "      <th>603317</th>\n",
       "      <td>7</td>\n",
       "      <td>445</td>\n",
       "      <td>Subscriber</td>\n",
       "      <td>Male</td>\n",
       "      <td>31</td>\n",
       "      <td>1</td>\n",
       "      <td>夜间</td>\n",
       "    </tr>\n",
       "    <tr>\n",
       "      <th>109957</th>\n",
       "      <td>18</td>\n",
       "      <td>1090</td>\n",
       "      <td>Customer</td>\n",
       "      <td>Male</td>\n",
       "      <td>30</td>\n",
       "      <td>1</td>\n",
       "      <td>工作时间</td>\n",
       "    </tr>\n",
       "    <tr>\n",
       "      <th>428082</th>\n",
       "      <td>9</td>\n",
       "      <td>581</td>\n",
       "      <td>Subscriber</td>\n",
       "      <td>Female</td>\n",
       "      <td>30</td>\n",
       "      <td>0</td>\n",
       "      <td>工作时间</td>\n",
       "    </tr>\n",
       "    <tr>\n",
       "      <th>395437</th>\n",
       "      <td>6</td>\n",
       "      <td>390</td>\n",
       "      <td>Subscriber</td>\n",
       "      <td>Male</td>\n",
       "      <td>40</td>\n",
       "      <td>2</td>\n",
       "      <td>早高峰</td>\n",
       "    </tr>\n",
       "  </tbody>\n",
       "</table>\n",
       "</div>"
      ],
      "text/plain": [
       "        timeduration  tripduration    usertype  gender  age  dayofweek  \\\n",
       "439283             7           436  Subscriber    Male   37          2   \n",
       "603317             7           445  Subscriber    Male   31          1   \n",
       "109957            18          1090    Customer    Male   30          1   \n",
       "428082             9           581  Subscriber  Female   30          0   \n",
       "395437             6           390  Subscriber    Male   40          2   \n",
       "\n",
       "       time_period  \n",
       "439283         早高峰  \n",
       "603317          夜间  \n",
       "109957        工作时间  \n",
       "428082        工作时间  \n",
       "395437         早高峰  "
      ]
     },
     "execution_count": 65,
     "metadata": {},
     "output_type": "execute_result"
    }
   ],
   "source": [
    "mobike.head()"
   ]
  },
  {
   "cell_type": "code",
   "execution_count": 66,
   "metadata": {},
   "outputs": [
    {
     "name": "stdout",
     "output_type": "stream",
     "text": [
      "<class 'pandas.core.frame.DataFrame'>\n",
      "Int64Index: 5457 entries, 439283 to 278179\n",
      "Data columns (total 7 columns):\n",
      " #   Column        Non-Null Count  Dtype   \n",
      "---  ------        --------------  -----   \n",
      " 0   timeduration  5457 non-null   int64   \n",
      " 1   tripduration  5457 non-null   int64   \n",
      " 2   usertype      5457 non-null   object  \n",
      " 3   gender        5457 non-null   object  \n",
      " 4   age           5457 non-null   int64   \n",
      " 5   dayofweek     5457 non-null   int64   \n",
      " 6   time_period   5457 non-null   category\n",
      "dtypes: category(1), int64(4), object(2)\n",
      "memory usage: 464.0+ KB\n"
     ]
    }
   ],
   "source": [
    "mobike.info()"
   ]
  },
  {
   "cell_type": "code",
   "execution_count": 67,
   "metadata": {},
   "outputs": [
    {
     "data": {
      "text/html": [
       "<div>\n",
       "<style scoped>\n",
       "    .dataframe tbody tr th:only-of-type {\n",
       "        vertical-align: middle;\n",
       "    }\n",
       "\n",
       "    .dataframe tbody tr th {\n",
       "        vertical-align: top;\n",
       "    }\n",
       "\n",
       "    .dataframe thead th {\n",
       "        text-align: right;\n",
       "    }\n",
       "</style>\n",
       "<table border=\"1\" class=\"dataframe\">\n",
       "  <thead>\n",
       "    <tr style=\"text-align: right;\">\n",
       "      <th></th>\n",
       "      <th>timeduration</th>\n",
       "      <th>tripduration</th>\n",
       "      <th>age</th>\n",
       "      <th>dayofweek</th>\n",
       "      <th>usertype_Subscriber</th>\n",
       "      <th>gender_Male</th>\n",
       "      <th>time_period_早高峰</th>\n",
       "      <th>time_period_工作时间</th>\n",
       "      <th>time_period_晚高峰</th>\n",
       "      <th>time_period_夜间</th>\n",
       "    </tr>\n",
       "  </thead>\n",
       "  <tbody>\n",
       "    <tr>\n",
       "      <th>439283</th>\n",
       "      <td>7</td>\n",
       "      <td>436</td>\n",
       "      <td>37</td>\n",
       "      <td>2</td>\n",
       "      <td>1</td>\n",
       "      <td>1</td>\n",
       "      <td>1</td>\n",
       "      <td>0</td>\n",
       "      <td>0</td>\n",
       "      <td>0</td>\n",
       "    </tr>\n",
       "    <tr>\n",
       "      <th>603317</th>\n",
       "      <td>7</td>\n",
       "      <td>445</td>\n",
       "      <td>31</td>\n",
       "      <td>1</td>\n",
       "      <td>1</td>\n",
       "      <td>1</td>\n",
       "      <td>0</td>\n",
       "      <td>0</td>\n",
       "      <td>0</td>\n",
       "      <td>1</td>\n",
       "    </tr>\n",
       "    <tr>\n",
       "      <th>109957</th>\n",
       "      <td>18</td>\n",
       "      <td>1090</td>\n",
       "      <td>30</td>\n",
       "      <td>1</td>\n",
       "      <td>0</td>\n",
       "      <td>1</td>\n",
       "      <td>0</td>\n",
       "      <td>1</td>\n",
       "      <td>0</td>\n",
       "      <td>0</td>\n",
       "    </tr>\n",
       "    <tr>\n",
       "      <th>428082</th>\n",
       "      <td>9</td>\n",
       "      <td>581</td>\n",
       "      <td>30</td>\n",
       "      <td>0</td>\n",
       "      <td>1</td>\n",
       "      <td>0</td>\n",
       "      <td>0</td>\n",
       "      <td>1</td>\n",
       "      <td>0</td>\n",
       "      <td>0</td>\n",
       "    </tr>\n",
       "    <tr>\n",
       "      <th>395437</th>\n",
       "      <td>6</td>\n",
       "      <td>390</td>\n",
       "      <td>40</td>\n",
       "      <td>2</td>\n",
       "      <td>1</td>\n",
       "      <td>1</td>\n",
       "      <td>1</td>\n",
       "      <td>0</td>\n",
       "      <td>0</td>\n",
       "      <td>0</td>\n",
       "    </tr>\n",
       "  </tbody>\n",
       "</table>\n",
       "</div>"
      ],
      "text/plain": [
       "        timeduration  tripduration  age  dayofweek  usertype_Subscriber  \\\n",
       "439283             7           436   37          2                    1   \n",
       "603317             7           445   31          1                    1   \n",
       "109957            18          1090   30          1                    0   \n",
       "428082             9           581   30          0                    1   \n",
       "395437             6           390   40          2                    1   \n",
       "\n",
       "        gender_Male  time_period_早高峰  time_period_工作时间  time_period_晚高峰  \\\n",
       "439283            1                1                 0                0   \n",
       "603317            1                0                 0                0   \n",
       "109957            1                0                 1                0   \n",
       "428082            0                0                 1                0   \n",
       "395437            1                1                 0                0   \n",
       "\n",
       "        time_period_夜间  \n",
       "439283               0  \n",
       "603317               1  \n",
       "109957               0  \n",
       "428082               0  \n",
       "395437               0  "
      ]
     },
     "execution_count": 67,
     "metadata": {},
     "output_type": "execute_result"
    }
   ],
   "source": [
    "mobike_attempt_1= mobike.copy()\n",
    "mobike_attempt_1 = pd.get_dummies(mobike_attempt_1,drop_first=True)\n",
    "mobike_attempt_1.head()"
   ]
  },
  {
   "cell_type": "code",
   "execution_count": 68,
   "metadata": {},
   "outputs": [
    {
     "data": {
      "text/html": [
       "<div>\n",
       "<style scoped>\n",
       "    .dataframe tbody tr th:only-of-type {\n",
       "        vertical-align: middle;\n",
       "    }\n",
       "\n",
       "    .dataframe tbody tr th {\n",
       "        vertical-align: top;\n",
       "    }\n",
       "\n",
       "    .dataframe thead th {\n",
       "        text-align: right;\n",
       "    }\n",
       "</style>\n",
       "<table border=\"1\" class=\"dataframe\">\n",
       "  <thead>\n",
       "    <tr style=\"text-align: right;\">\n",
       "      <th></th>\n",
       "      <th>timeduration</th>\n",
       "      <th>tripduration</th>\n",
       "      <th>age</th>\n",
       "      <th>dayofweek</th>\n",
       "      <th>usertype_Subscriber</th>\n",
       "      <th>gender_Male</th>\n",
       "      <th>time_period_早高峰</th>\n",
       "      <th>time_period_工作时间</th>\n",
       "      <th>time_period_晚高峰</th>\n",
       "      <th>time_period_夜间</th>\n",
       "    </tr>\n",
       "  </thead>\n",
       "  <tbody>\n",
       "    <tr>\n",
       "      <th>timeduration</th>\n",
       "      <td>1.000000</td>\n",
       "      <td>0.998675</td>\n",
       "      <td>0.050498</td>\n",
       "      <td>-0.003867</td>\n",
       "      <td>-0.093003</td>\n",
       "      <td>-0.053849</td>\n",
       "      <td>-0.007440</td>\n",
       "      <td>-0.029046</td>\n",
       "      <td>0.057335</td>\n",
       "      <td>-0.015208</td>\n",
       "    </tr>\n",
       "    <tr>\n",
       "      <th>tripduration</th>\n",
       "      <td>0.998675</td>\n",
       "      <td>1.000000</td>\n",
       "      <td>0.049849</td>\n",
       "      <td>-0.002513</td>\n",
       "      <td>-0.093519</td>\n",
       "      <td>-0.052986</td>\n",
       "      <td>-0.007810</td>\n",
       "      <td>-0.027042</td>\n",
       "      <td>0.056448</td>\n",
       "      <td>-0.015670</td>\n",
       "    </tr>\n",
       "    <tr>\n",
       "      <th>age</th>\n",
       "      <td>0.050498</td>\n",
       "      <td>0.049849</td>\n",
       "      <td>1.000000</td>\n",
       "      <td>-0.054607</td>\n",
       "      <td>0.055613</td>\n",
       "      <td>0.059189</td>\n",
       "      <td>0.079919</td>\n",
       "      <td>0.010808</td>\n",
       "      <td>-0.012936</td>\n",
       "      <td>-0.086753</td>\n",
       "    </tr>\n",
       "    <tr>\n",
       "      <th>dayofweek</th>\n",
       "      <td>-0.003867</td>\n",
       "      <td>-0.002513</td>\n",
       "      <td>-0.054607</td>\n",
       "      <td>1.000000</td>\n",
       "      <td>-0.061353</td>\n",
       "      <td>-0.010356</td>\n",
       "      <td>-0.117133</td>\n",
       "      <td>0.186118</td>\n",
       "      <td>-0.100755</td>\n",
       "      <td>0.012852</td>\n",
       "    </tr>\n",
       "    <tr>\n",
       "      <th>usertype_Subscriber</th>\n",
       "      <td>-0.093003</td>\n",
       "      <td>-0.093519</td>\n",
       "      <td>0.055613</td>\n",
       "      <td>-0.061353</td>\n",
       "      <td>1.000000</td>\n",
       "      <td>0.001825</td>\n",
       "      <td>0.042147</td>\n",
       "      <td>-0.037111</td>\n",
       "      <td>-0.005653</td>\n",
       "      <td>0.012447</td>\n",
       "    </tr>\n",
       "    <tr>\n",
       "      <th>gender_Male</th>\n",
       "      <td>-0.053849</td>\n",
       "      <td>-0.052986</td>\n",
       "      <td>0.059189</td>\n",
       "      <td>-0.010356</td>\n",
       "      <td>0.001825</td>\n",
       "      <td>1.000000</td>\n",
       "      <td>0.028920</td>\n",
       "      <td>-0.004691</td>\n",
       "      <td>-0.003929</td>\n",
       "      <td>-0.025365</td>\n",
       "    </tr>\n",
       "    <tr>\n",
       "      <th>time_period_早高峰</th>\n",
       "      <td>-0.007440</td>\n",
       "      <td>-0.007810</td>\n",
       "      <td>0.079919</td>\n",
       "      <td>-0.117133</td>\n",
       "      <td>0.042147</td>\n",
       "      <td>0.028920</td>\n",
       "      <td>1.000000</td>\n",
       "      <td>-0.373503</td>\n",
       "      <td>-0.361912</td>\n",
       "      <td>-0.199183</td>\n",
       "    </tr>\n",
       "    <tr>\n",
       "      <th>time_period_工作时间</th>\n",
       "      <td>-0.029046</td>\n",
       "      <td>-0.027042</td>\n",
       "      <td>0.010808</td>\n",
       "      <td>0.186118</td>\n",
       "      <td>-0.037111</td>\n",
       "      <td>-0.004691</td>\n",
       "      <td>-0.373503</td>\n",
       "      <td>1.000000</td>\n",
       "      <td>-0.455892</td>\n",
       "      <td>-0.250906</td>\n",
       "    </tr>\n",
       "    <tr>\n",
       "      <th>time_period_晚高峰</th>\n",
       "      <td>0.057335</td>\n",
       "      <td>0.056448</td>\n",
       "      <td>-0.012936</td>\n",
       "      <td>-0.100755</td>\n",
       "      <td>-0.005653</td>\n",
       "      <td>-0.003929</td>\n",
       "      <td>-0.361912</td>\n",
       "      <td>-0.455892</td>\n",
       "      <td>1.000000</td>\n",
       "      <td>-0.243120</td>\n",
       "    </tr>\n",
       "    <tr>\n",
       "      <th>time_period_夜间</th>\n",
       "      <td>-0.015208</td>\n",
       "      <td>-0.015670</td>\n",
       "      <td>-0.086753</td>\n",
       "      <td>0.012852</td>\n",
       "      <td>0.012447</td>\n",
       "      <td>-0.025365</td>\n",
       "      <td>-0.199183</td>\n",
       "      <td>-0.250906</td>\n",
       "      <td>-0.243120</td>\n",
       "      <td>1.000000</td>\n",
       "    </tr>\n",
       "  </tbody>\n",
       "</table>\n",
       "</div>"
      ],
      "text/plain": [
       "                     timeduration  tripduration       age  dayofweek  \\\n",
       "timeduration             1.000000      0.998675  0.050498  -0.003867   \n",
       "tripduration             0.998675      1.000000  0.049849  -0.002513   \n",
       "age                      0.050498      0.049849  1.000000  -0.054607   \n",
       "dayofweek               -0.003867     -0.002513 -0.054607   1.000000   \n",
       "usertype_Subscriber     -0.093003     -0.093519  0.055613  -0.061353   \n",
       "gender_Male             -0.053849     -0.052986  0.059189  -0.010356   \n",
       "time_period_早高峰         -0.007440     -0.007810  0.079919  -0.117133   \n",
       "time_period_工作时间        -0.029046     -0.027042  0.010808   0.186118   \n",
       "time_period_晚高峰          0.057335      0.056448 -0.012936  -0.100755   \n",
       "time_period_夜间          -0.015208     -0.015670 -0.086753   0.012852   \n",
       "\n",
       "                     usertype_Subscriber  gender_Male  time_period_早高峰  \\\n",
       "timeduration                   -0.093003    -0.053849        -0.007440   \n",
       "tripduration                   -0.093519    -0.052986        -0.007810   \n",
       "age                             0.055613     0.059189         0.079919   \n",
       "dayofweek                      -0.061353    -0.010356        -0.117133   \n",
       "usertype_Subscriber             1.000000     0.001825         0.042147   \n",
       "gender_Male                     0.001825     1.000000         0.028920   \n",
       "time_period_早高峰                 0.042147     0.028920         1.000000   \n",
       "time_period_工作时间               -0.037111    -0.004691        -0.373503   \n",
       "time_period_晚高峰                -0.005653    -0.003929        -0.361912   \n",
       "time_period_夜间                  0.012447    -0.025365        -0.199183   \n",
       "\n",
       "                     time_period_工作时间  time_period_晚高峰  time_period_夜间  \n",
       "timeduration                -0.029046         0.057335       -0.015208  \n",
       "tripduration                -0.027042         0.056448       -0.015670  \n",
       "age                          0.010808        -0.012936       -0.086753  \n",
       "dayofweek                    0.186118        -0.100755        0.012852  \n",
       "usertype_Subscriber         -0.037111        -0.005653        0.012447  \n",
       "gender_Male                 -0.004691        -0.003929       -0.025365  \n",
       "time_period_早高峰             -0.373503        -0.361912       -0.199183  \n",
       "time_period_工作时间             1.000000        -0.455892       -0.250906  \n",
       "time_period_晚高峰             -0.455892         1.000000       -0.243120  \n",
       "time_period_夜间              -0.250906        -0.243120        1.000000  "
      ]
     },
     "execution_count": 68,
     "metadata": {},
     "output_type": "execute_result"
    }
   ],
   "source": [
    "mobike_attempt_1[mobike_attempt_1.columns.tolist()].corr()"
   ]
  },
  {
   "cell_type": "code",
   "execution_count": 69,
   "metadata": {},
   "outputs": [],
   "source": [
    "#数据标准化\n",
    "X = mobike_attempt_1[['timeduration','usertype_Subscriber','gender_Male','age']]\n",
    "from sklearn.preprocessing import scale\n",
    "X = pd.DataFrame(scale(X))"
   ]
  },
  {
   "cell_type": "code",
   "execution_count": 70,
   "metadata": {},
   "outputs": [],
   "source": [
    "#for循环寻找最佳分裂数\n",
    "scores=[]\n",
    "centers=list(range(2,10))\n",
    "\n",
    "for center in centers:\n",
    "    kmeans = KMeans(n_clusters=center)\n",
    "    model=kmeans.fit(X)\n",
    "    label=model.predict(X)\n",
    "    score=silhouette_score(X,label)\n",
    "    scores.append(score)"
   ]
  },
  {
   "cell_type": "code",
   "execution_count": 71,
   "metadata": {},
   "outputs": [
    {
     "data": {
      "image/png": "[encoded data removed]",
      "text/plain": [
       "<Figure size 432x288 with 1 Axes>"
      ]
     },
     "metadata": {
      "needs_background": "light"
     },
     "output_type": "display_data"
    }
   ],
   "source": [
    "#可视化for循环结果\n",
    "plt.plot(centers,scores,linestyle='--',marker='o',color='b');\n",
    "plt.xlabel('N_Cluster');\n",
    "plt.ylabel('Silhouette Score');\n",
    "plt.title('Silhouette Score vs. N_cluster');"
   ]
  },
  {
   "cell_type": "markdown",
   "metadata": {},
   "source": [
    "- 轮廓系数都偏低，再挖掘其他特征。"
   ]
  },
  {
   "cell_type": "markdown",
   "metadata": {},
   "source": [
    "# 优化挖掘特征"
   ]
  },
  {
   "cell_type": "code",
   "execution_count": 72,
   "metadata": {},
   "outputs": [
    {
     "data": {
      "text/plain": [
       "工作日    0.911168\n",
       "周末     0.088832\n",
       "Name: week_period, dtype: float64"
      ]
     },
     "execution_count": 72,
     "metadata": {},
     "output_type": "execute_result"
    }
   ],
   "source": [
    "#dayofweek分箱\n",
    "bins=[0,5,6]\n",
    "labels=['工作日','周末']\n",
    "mobike['week_period']=pd.cut(mobike.dayofweek,bins,right=False,labels=labels)\n",
    "mobike['week_period'].value_counts(1)"
   ]
  },
  {
   "cell_type": "code",
   "execution_count": 73,
   "metadata": {},
   "outputs": [
    {
     "name": "stdout",
     "output_type": "stream",
     "text": [
      "<class 'pandas.core.frame.DataFrame'>\n",
      "Int64Index: 5457 entries, 439283 to 278179\n",
      "Data columns (total 7 columns):\n",
      " #   Column        Non-Null Count  Dtype   \n",
      "---  ------        --------------  -----   \n",
      " 0   timeduration  5457 non-null   int64   \n",
      " 1   tripduration  5457 non-null   int64   \n",
      " 2   usertype      5457 non-null   object  \n",
      " 3   gender        5457 non-null   object  \n",
      " 4   age           5457 non-null   int64   \n",
      " 5   time_period   5457 non-null   category\n",
      " 6   week_period   5077 non-null   category\n",
      "dtypes: category(2), int64(3), object(2)\n",
      "memory usage: 426.7+ KB\n"
     ]
    }
   ],
   "source": [
    "#可以删除dayofweek变量\n",
    "mobike.drop('dayofweek',axis=1,inplace=True)\n",
    "mobike.info()"
   ]
  },
  {
   "cell_type": "code",
   "execution_count": 74,
   "metadata": {},
   "outputs": [
    {
     "data": {
      "text/html": [
       "<div>\n",
       "<style scoped>\n",
       "    .dataframe tbody tr th:only-of-type {\n",
       "        vertical-align: middle;\n",
       "    }\n",
       "\n",
       "    .dataframe tbody tr th {\n",
       "        vertical-align: top;\n",
       "    }\n",
       "\n",
       "    .dataframe thead th {\n",
       "        text-align: right;\n",
       "    }\n",
       "</style>\n",
       "<table border=\"1\" class=\"dataframe\">\n",
       "  <thead>\n",
       "    <tr style=\"text-align: right;\">\n",
       "      <th></th>\n",
       "      <th>timeduration</th>\n",
       "      <th>tripduration</th>\n",
       "      <th>age</th>\n",
       "      <th>usertype_Subscriber</th>\n",
       "      <th>gender_Male</th>\n",
       "      <th>time_period_早高峰</th>\n",
       "      <th>time_period_工作时间</th>\n",
       "      <th>time_period_晚高峰</th>\n",
       "      <th>time_period_夜间</th>\n",
       "      <th>week_period_周末</th>\n",
       "    </tr>\n",
       "  </thead>\n",
       "  <tbody>\n",
       "    <tr>\n",
       "      <th>439283</th>\n",
       "      <td>7</td>\n",
       "      <td>436</td>\n",
       "      <td>37</td>\n",
       "      <td>1</td>\n",
       "      <td>1</td>\n",
       "      <td>1</td>\n",
       "      <td>0</td>\n",
       "      <td>0</td>\n",
       "      <td>0</td>\n",
       "      <td>0</td>\n",
       "    </tr>\n",
       "    <tr>\n",
       "      <th>603317</th>\n",
       "      <td>7</td>\n",
       "      <td>445</td>\n",
       "      <td>31</td>\n",
       "      <td>1</td>\n",
       "      <td>1</td>\n",
       "      <td>0</td>\n",
       "      <td>0</td>\n",
       "      <td>0</td>\n",
       "      <td>1</td>\n",
       "      <td>0</td>\n",
       "    </tr>\n",
       "    <tr>\n",
       "      <th>109957</th>\n",
       "      <td>18</td>\n",
       "      <td>1090</td>\n",
       "      <td>30</td>\n",
       "      <td>0</td>\n",
       "      <td>1</td>\n",
       "      <td>0</td>\n",
       "      <td>1</td>\n",
       "      <td>0</td>\n",
       "      <td>0</td>\n",
       "      <td>0</td>\n",
       "    </tr>\n",
       "    <tr>\n",
       "      <th>428082</th>\n",
       "      <td>9</td>\n",
       "      <td>581</td>\n",
       "      <td>30</td>\n",
       "      <td>1</td>\n",
       "      <td>0</td>\n",
       "      <td>0</td>\n",
       "      <td>1</td>\n",
       "      <td>0</td>\n",
       "      <td>0</td>\n",
       "      <td>0</td>\n",
       "    </tr>\n",
       "    <tr>\n",
       "      <th>395437</th>\n",
       "      <td>6</td>\n",
       "      <td>390</td>\n",
       "      <td>40</td>\n",
       "      <td>1</td>\n",
       "      <td>1</td>\n",
       "      <td>1</td>\n",
       "      <td>0</td>\n",
       "      <td>0</td>\n",
       "      <td>0</td>\n",
       "      <td>0</td>\n",
       "    </tr>\n",
       "  </tbody>\n",
       "</table>\n",
       "</div>"
      ],
      "text/plain": [
       "        timeduration  tripduration  age  usertype_Subscriber  gender_Male  \\\n",
       "439283             7           436   37                    1            1   \n",
       "603317             7           445   31                    1            1   \n",
       "109957            18          1090   30                    0            1   \n",
       "428082             9           581   30                    1            0   \n",
       "395437             6           390   40                    1            1   \n",
       "\n",
       "        time_period_早高峰  time_period_工作时间  time_period_晚高峰  time_period_夜间  \\\n",
       "439283                1                 0                0               0   \n",
       "603317                0                 0                0               1   \n",
       "109957                0                 1                0               0   \n",
       "428082                0                 1                0               0   \n",
       "395437                1                 0                0               0   \n",
       "\n",
       "        week_period_周末  \n",
       "439283               0  \n",
       "603317               0  \n",
       "109957               0  \n",
       "428082               0  \n",
       "395437               0  "
      ]
     },
     "execution_count": 74,
     "metadata": {},
     "output_type": "execute_result"
    }
   ],
   "source": [
    "mobike_attempt_2 = mobike.copy()\n",
    "mobike_attempt_2 = pd.get_dummies(mobike_attempt_2,drop_first=True)\n",
    "mobike_attempt_2.head()"
   ]
  },
  {
   "cell_type": "code",
   "execution_count": 75,
   "metadata": {},
   "outputs": [
    {
     "data": {
      "text/html": [
       "<div>\n",
       "<style scoped>\n",
       "    .dataframe tbody tr th:only-of-type {\n",
       "        vertical-align: middle;\n",
       "    }\n",
       "\n",
       "    .dataframe tbody tr th {\n",
       "        vertical-align: top;\n",
       "    }\n",
       "\n",
       "    .dataframe thead th {\n",
       "        text-align: right;\n",
       "    }\n",
       "</style>\n",
       "<table border=\"1\" class=\"dataframe\">\n",
       "  <thead>\n",
       "    <tr style=\"text-align: right;\">\n",
       "      <th></th>\n",
       "      <th>timeduration</th>\n",
       "      <th>tripduration</th>\n",
       "      <th>age</th>\n",
       "      <th>usertype_Subscriber</th>\n",
       "      <th>gender_Male</th>\n",
       "      <th>time_period_早高峰</th>\n",
       "      <th>time_period_工作时间</th>\n",
       "      <th>time_period_晚高峰</th>\n",
       "      <th>time_period_夜间</th>\n",
       "      <th>week_period_周末</th>\n",
       "    </tr>\n",
       "  </thead>\n",
       "  <tbody>\n",
       "    <tr>\n",
       "      <th>timeduration</th>\n",
       "      <td>1.000000</td>\n",
       "      <td>0.998675</td>\n",
       "      <td>0.050498</td>\n",
       "      <td>-0.093003</td>\n",
       "      <td>-0.053849</td>\n",
       "      <td>-0.007440</td>\n",
       "      <td>-0.029046</td>\n",
       "      <td>0.057335</td>\n",
       "      <td>-0.015208</td>\n",
       "      <td>0.008465</td>\n",
       "    </tr>\n",
       "    <tr>\n",
       "      <th>tripduration</th>\n",
       "      <td>0.998675</td>\n",
       "      <td>1.000000</td>\n",
       "      <td>0.049849</td>\n",
       "      <td>-0.093519</td>\n",
       "      <td>-0.052986</td>\n",
       "      <td>-0.007810</td>\n",
       "      <td>-0.027042</td>\n",
       "      <td>0.056448</td>\n",
       "      <td>-0.015670</td>\n",
       "      <td>0.009252</td>\n",
       "    </tr>\n",
       "    <tr>\n",
       "      <th>age</th>\n",
       "      <td>0.050498</td>\n",
       "      <td>0.049849</td>\n",
       "      <td>1.000000</td>\n",
       "      <td>0.055613</td>\n",
       "      <td>0.059189</td>\n",
       "      <td>0.079919</td>\n",
       "      <td>0.010808</td>\n",
       "      <td>-0.012936</td>\n",
       "      <td>-0.086753</td>\n",
       "      <td>-0.056989</td>\n",
       "    </tr>\n",
       "    <tr>\n",
       "      <th>usertype_Subscriber</th>\n",
       "      <td>-0.093003</td>\n",
       "      <td>-0.093519</td>\n",
       "      <td>0.055613</td>\n",
       "      <td>1.000000</td>\n",
       "      <td>0.001825</td>\n",
       "      <td>0.042147</td>\n",
       "      <td>-0.037111</td>\n",
       "      <td>-0.005653</td>\n",
       "      <td>0.012447</td>\n",
       "      <td>-0.040395</td>\n",
       "    </tr>\n",
       "    <tr>\n",
       "      <th>gender_Male</th>\n",
       "      <td>-0.053849</td>\n",
       "      <td>-0.052986</td>\n",
       "      <td>0.059189</td>\n",
       "      <td>0.001825</td>\n",
       "      <td>1.000000</td>\n",
       "      <td>0.028920</td>\n",
       "      <td>-0.004691</td>\n",
       "      <td>-0.003929</td>\n",
       "      <td>-0.025365</td>\n",
       "      <td>-0.044419</td>\n",
       "    </tr>\n",
       "    <tr>\n",
       "      <th>time_period_早高峰</th>\n",
       "      <td>-0.007440</td>\n",
       "      <td>-0.007810</td>\n",
       "      <td>0.079919</td>\n",
       "      <td>0.042147</td>\n",
       "      <td>0.028920</td>\n",
       "      <td>1.000000</td>\n",
       "      <td>-0.373503</td>\n",
       "      <td>-0.361912</td>\n",
       "      <td>-0.199183</td>\n",
       "      <td>-0.104810</td>\n",
       "    </tr>\n",
       "    <tr>\n",
       "      <th>time_period_工作时间</th>\n",
       "      <td>-0.029046</td>\n",
       "      <td>-0.027042</td>\n",
       "      <td>0.010808</td>\n",
       "      <td>-0.037111</td>\n",
       "      <td>-0.004691</td>\n",
       "      <td>-0.373503</td>\n",
       "      <td>1.000000</td>\n",
       "      <td>-0.455892</td>\n",
       "      <td>-0.250906</td>\n",
       "      <td>0.170784</td>\n",
       "    </tr>\n",
       "    <tr>\n",
       "      <th>time_period_晚高峰</th>\n",
       "      <td>0.057335</td>\n",
       "      <td>0.056448</td>\n",
       "      <td>-0.012936</td>\n",
       "      <td>-0.005653</td>\n",
       "      <td>-0.003929</td>\n",
       "      <td>-0.361912</td>\n",
       "      <td>-0.455892</td>\n",
       "      <td>1.000000</td>\n",
       "      <td>-0.243120</td>\n",
       "      <td>-0.107098</td>\n",
       "    </tr>\n",
       "    <tr>\n",
       "      <th>time_period_夜间</th>\n",
       "      <td>-0.015208</td>\n",
       "      <td>-0.015670</td>\n",
       "      <td>-0.086753</td>\n",
       "      <td>0.012447</td>\n",
       "      <td>-0.025365</td>\n",
       "      <td>-0.199183</td>\n",
       "      <td>-0.250906</td>\n",
       "      <td>-0.243120</td>\n",
       "      <td>1.000000</td>\n",
       "      <td>0.032543</td>\n",
       "    </tr>\n",
       "    <tr>\n",
       "      <th>week_period_周末</th>\n",
       "      <td>0.008465</td>\n",
       "      <td>0.009252</td>\n",
       "      <td>-0.056989</td>\n",
       "      <td>-0.040395</td>\n",
       "      <td>-0.044419</td>\n",
       "      <td>-0.104810</td>\n",
       "      <td>0.170784</td>\n",
       "      <td>-0.107098</td>\n",
       "      <td>0.032543</td>\n",
       "      <td>1.000000</td>\n",
       "    </tr>\n",
       "  </tbody>\n",
       "</table>\n",
       "</div>"
      ],
      "text/plain": [
       "                     timeduration  tripduration       age  \\\n",
       "timeduration             1.000000      0.998675  0.050498   \n",
       "tripduration             0.998675      1.000000  0.049849   \n",
       "age                      0.050498      0.049849  1.000000   \n",
       "usertype_Subscriber     -0.093003     -0.093519  0.055613   \n",
       "gender_Male             -0.053849     -0.052986  0.059189   \n",
       "time_period_早高峰         -0.007440     -0.007810  0.079919   \n",
       "time_period_工作时间        -0.029046     -0.027042  0.010808   \n",
       "time_period_晚高峰          0.057335      0.056448 -0.012936   \n",
       "time_period_夜间          -0.015208     -0.015670 -0.086753   \n",
       "week_period_周末           0.008465      0.009252 -0.056989   \n",
       "\n",
       "                     usertype_Subscriber  gender_Male  time_period_早高峰  \\\n",
       "timeduration                   -0.093003    -0.053849        -0.007440   \n",
       "tripduration                   -0.093519    -0.052986        -0.007810   \n",
       "age                             0.055613     0.059189         0.079919   \n",
       "usertype_Subscriber             1.000000     0.001825         0.042147   \n",
       "gender_Male                     0.001825     1.000000         0.028920   \n",
       "time_period_早高峰                 0.042147     0.028920         1.000000   \n",
       "time_period_工作时间               -0.037111    -0.004691        -0.373503   \n",
       "time_period_晚高峰                -0.005653    -0.003929        -0.361912   \n",
       "time_period_夜间                  0.012447    -0.025365        -0.199183   \n",
       "week_period_周末                 -0.040395    -0.044419        -0.104810   \n",
       "\n",
       "                     time_period_工作时间  time_period_晚高峰  time_period_夜间  \\\n",
       "timeduration                -0.029046         0.057335       -0.015208   \n",
       "tripduration                -0.027042         0.056448       -0.015670   \n",
       "age                          0.010808        -0.012936       -0.086753   \n",
       "usertype_Subscriber         -0.037111        -0.005653        0.012447   \n",
       "gender_Male                 -0.004691        -0.003929       -0.025365   \n",
       "time_period_早高峰             -0.373503        -0.361912       -0.199183   \n",
       "time_period_工作时间             1.000000        -0.455892       -0.250906   \n",
       "time_period_晚高峰             -0.455892         1.000000       -0.243120   \n",
       "time_period_夜间              -0.250906        -0.243120        1.000000   \n",
       "week_period_周末               0.170784        -0.107098        0.032543   \n",
       "\n",
       "                     week_period_周末  \n",
       "timeduration               0.008465  \n",
       "tripduration               0.009252  \n",
       "age                       -0.056989  \n",
       "usertype_Subscriber       -0.040395  \n",
       "gender_Male               -0.044419  \n",
       "time_period_早高峰           -0.104810  \n",
       "time_period_工作时间           0.170784  \n",
       "time_period_晚高峰           -0.107098  \n",
       "time_period_夜间             0.032543  \n",
       "week_period_周末             1.000000  "
      ]
     },
     "execution_count": 75,
     "metadata": {},
     "output_type": "execute_result"
    }
   ],
   "source": [
    "mobike_attempt_2[mobike_attempt_2.columns.tolist()].corr()"
   ]
  },
  {
   "cell_type": "code",
   "execution_count": 76,
   "metadata": {},
   "outputs": [],
   "source": [
    "#数据标准化\n",
    "X = mobike_attempt_2[['timeduration','age','usertype_Subscriber','gender_Male','time_period_早高峰','time_period_晚高峰','week_period_周末']]\n",
    "from sklearn.preprocessing import scale\n",
    "X = pd.DataFrame(scale(X))"
   ]
  },
  {
   "cell_type": "code",
   "execution_count": 77,
   "metadata": {},
   "outputs": [],
   "source": [
    "#for循环寻找最佳分裂数\n",
    "scores=[]\n",
    "centers=list(range(2,10))\n",
    "\n",
    "for center in centers:\n",
    "    kmeans = KMeans(n_clusters=center)\n",
    "    model=kmeans.fit(X)\n",
    "    label=model.predict(X)\n",
    "    score=silhouette_score(X,label)\n",
    "    scores.append(score)"
   ]
  },
  {
   "cell_type": "code",
   "execution_count": 78,
   "metadata": {},
   "outputs": [
    {
     "data": {
      "image/png": "[encoded data removed]",
      "text/plain": [
       "<Figure size 432x288 with 1 Axes>"
      ]
     },
     "metadata": {
      "needs_background": "light"
     },
     "output_type": "display_data"
    }
   ],
   "source": [
    "#可视化for循环结果\n",
    "plt.plot(centers,scores,linestyle='--',marker='o',color='b');\n",
    "plt.xlabel('N_Cluster');\n",
    "plt.ylabel('Silhouette Score');\n",
    "plt.title('Silhouette Score vs. N_cluster');"
   ]
  },
  {
   "cell_type": "markdown",
   "metadata": {},
   "source": [
    "- 由图可见，选择6作为群集数"
   ]
  },
  {
   "cell_type": "markdown",
   "metadata": {},
   "source": [
    "# 业务解读"
   ]
  },
  {
   "cell_type": "code",
   "execution_count": 79,
   "metadata": {},
   "outputs": [],
   "source": [
    "kmeans = KMeans(n_clusters=6)\n",
    "model=kmeans.fit(X)\n",
    "label=model.predict(X)\n",
    "score=silhouette_score(X,label)\n",
    "centers = pd.DataFrame(model.cluster_centers_)\n",
    "centers.to_csv('mobike_attempt_centers.csv')"
   ]
  },
  {
   "cell_type": "code",
   "execution_count": 80,
   "metadata": {},
   "outputs": [
    {
     "data": {
      "text/plain": [
       "2    0.304380\n",
       "0    0.224666\n",
       "1    0.219168\n",
       "4    0.148983\n",
       "5    0.078981\n",
       "3    0.023823\n",
       "Name: cluster, dtype: float64"
      ]
     },
     "execution_count": 80,
     "metadata": {},
     "output_type": "execute_result"
    }
   ],
   "source": [
    "mobike_attempt_2['cluster']=model.labels_\n",
    "mobike_attempt_2['cluster'].value_counts(1)"
   ]
  },
  {
   "cell_type": "code",
   "execution_count": 81,
   "metadata": {},
   "outputs": [
    {
     "name": "stdout",
     "output_type": "stream",
     "text": [
      "   timeduration       age  usertype_Subscriber  gender_Male  time_period_早高峰  \\\n",
      "0      0.061247  0.011962             0.156218     0.528379        -0.544525   \n",
      "1     -0.009307  0.148153             0.156218     0.056737         1.836463   \n",
      "2     -0.122879 -0.000103             0.156218     0.528379        -0.544525   \n",
      "3      0.595344 -0.355999            -6.401322    -0.011681        -0.269796   \n",
      "4      0.083283 -0.090816             0.156218    -1.892581        -0.544525   \n",
      "5     -0.011506 -0.166060             0.156218    -0.123202        -0.340125   \n",
      "\n",
      "   time_period_晚高峰  week_period_周末  \n",
      "0         1.504578       -0.300153  \n",
      "1        -0.664638       -0.300153  \n",
      "2        -0.664638       -0.300153  \n",
      "3         0.036186        0.258583  \n",
      "4         0.253210       -0.300153  \n",
      "5        -0.362659        3.331633  \n"
     ]
    }
   ],
   "source": [
    "centers.columns=['timeduration','age','usertype_Subscriber','gender_Male','time_period_早高峰','time_period_晚高峰','week_period_周末']\n",
    "print(centers)"
   ]
  },
  {
   "cell_type": "markdown",
   "metadata": {},
   "source": [
    "#通过绝对值读取群集标签\n",
    "- 0群男性订阅用户，偏好工作日出行，占比30.4%；\n",
    "- 1群女性订阅用户，偏好工作日晚高峰出行，占比14.9%；\n",
    "- 2群女性订阅用户，偏好周末闲暇时间出行，占比7.8%；\n",
    "- 3群男性订阅用户，偏好工作日早高峰出行，占比21.9%；\n",
    "- 4群男性订阅用户，偏好工作日晚高峰出行，占比22.5%；\n",
    "- 5群女性普通用户，偏好周末晚高峰出行，占比2.4%；"
   ]
  }
 ],
 "metadata": {
  "kernelspec": {
   "display_name": "Python 3",
   "language": "python",
   "name": "python3"
  },
  "language_info": {
   "codemirror_mode": {
    "name": "ipython",
    "version": 3
   },
   "file_extension": ".py",
   "mimetype": "text/x-python",
   "name": "python",
   "nbconvert_exporter": "python",
   "pygments_lexer": "ipython3",
   "version": "3.7.6"
  },
  "toc": {
   "base_numbering": 1,
   "nav_menu": {},
   "number_sections": true,
   "sideBar": true,
   "skip_h1_title": false,
   "title_cell": "Table of Contents",
   "title_sidebar": "Contents",
   "toc_cell": false,
   "toc_position": {
    "height": "calc(100% - 180px)",
    "left": "10px",
    "top": "150px",
    "width": "256px"
   },
   "toc_section_display": true,
   "toc_window_display": true
  }
 },
 "nbformat": 4,
 "nbformat_minor": 4
}
